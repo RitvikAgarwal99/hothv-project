{
 "cells": [
  {
   "cell_type": "code",
   "execution_count": 1,
   "metadata": {},
   "outputs": [],
   "source": [
    "import csv\n",
    "import pandas as pd"
   ]
  },
  {
   "cell_type": "code",
   "execution_count": 2,
   "metadata": {},
   "outputs": [],
   "source": [
    "data = pd.read_csv(\"food-choices/food_coded.csv\") "
   ]
  },
  {
   "cell_type": "code",
   "execution_count": 3,
   "metadata": {},
   "outputs": [],
   "source": [
    "data.drop(['GPA', 'Gender', 'calories_day', 'calories_scone', 'coffee', 'comfort_food', 'comfort_food_reasons', 'comfort_food_reasons_coded', 'comfort_food_reasons_coded.1', 'cook','diet_current', 'eating_changes', 'eating_changes_coded', 'eating_changes_coded1', 'eating_out', 'employment', 'exercise', 'father_education', 'father_profession', 'food_childhood', 'fries', 'grade_level', 'healthy_feeling', 'healthy_meal', 'ideal_diet', 'ideal_diet_coded', 'income', 'indian_food', 'italian_food', 'life_rewarding', 'marital_status', 'meals_dinner_friend', 'mother_education','mother_profession', 'on_off_campus', 'parents_cook', 'pay_meal_out', 'persian_food', 'self_perception_weight', 'sports', 'thai_food', 'tortilla_calories', 'turkey_calories', 'type_sports', 'veggies_day', 'vitamins','waffle_calories', 'weight'],axis = 1,inplace = True)"
   ]
  },
  {
   "cell_type": "code",
   "execution_count": 4,
   "metadata": {},
   "outputs": [
    {
     "data": {
      "text/html": [
       "<div>\n",
       "<style scoped>\n",
       "    .dataframe tbody tr th:only-of-type {\n",
       "        vertical-align: middle;\n",
       "    }\n",
       "\n",
       "    .dataframe tbody tr th {\n",
       "        vertical-align: top;\n",
       "    }\n",
       "\n",
       "    .dataframe thead th {\n",
       "        text-align: right;\n",
       "    }\n",
       "</style>\n",
       "<table border=\"1\" class=\"dataframe\">\n",
       "  <thead>\n",
       "    <tr style=\"text-align: right;\">\n",
       "      <th></th>\n",
       "      <th>breakfast</th>\n",
       "      <th>calories_chicken</th>\n",
       "      <th>cuisine</th>\n",
       "      <th>diet_current_coded</th>\n",
       "      <th>drink</th>\n",
       "      <th>ethnic_food</th>\n",
       "      <th>fav_cuisine</th>\n",
       "      <th>fav_cuisine_coded</th>\n",
       "      <th>fav_food</th>\n",
       "      <th>fruit_day</th>\n",
       "      <th>greek_food</th>\n",
       "      <th>nutritional_check</th>\n",
       "      <th>soup</th>\n",
       "    </tr>\n",
       "  </thead>\n",
       "  <tbody>\n",
       "    <tr>\n",
       "      <th>0</th>\n",
       "      <td>1</td>\n",
       "      <td>430</td>\n",
       "      <td>NaN</td>\n",
       "      <td>1</td>\n",
       "      <td>1.0</td>\n",
       "      <td>1</td>\n",
       "      <td>Arabic cuisine</td>\n",
       "      <td>3</td>\n",
       "      <td>1.0</td>\n",
       "      <td>5</td>\n",
       "      <td>5</td>\n",
       "      <td>5</td>\n",
       "      <td>1.0</td>\n",
       "    </tr>\n",
       "    <tr>\n",
       "      <th>1</th>\n",
       "      <td>1</td>\n",
       "      <td>610</td>\n",
       "      <td>1.0</td>\n",
       "      <td>2</td>\n",
       "      <td>2.0</td>\n",
       "      <td>4</td>\n",
       "      <td>Italian</td>\n",
       "      <td>1</td>\n",
       "      <td>1.0</td>\n",
       "      <td>4</td>\n",
       "      <td>4</td>\n",
       "      <td>4</td>\n",
       "      <td>1.0</td>\n",
       "    </tr>\n",
       "    <tr>\n",
       "      <th>2</th>\n",
       "      <td>1</td>\n",
       "      <td>720</td>\n",
       "      <td>3.0</td>\n",
       "      <td>3</td>\n",
       "      <td>1.0</td>\n",
       "      <td>5</td>\n",
       "      <td>italian</td>\n",
       "      <td>1</td>\n",
       "      <td>3.0</td>\n",
       "      <td>5</td>\n",
       "      <td>5</td>\n",
       "      <td>4</td>\n",
       "      <td>1.0</td>\n",
       "    </tr>\n",
       "    <tr>\n",
       "      <th>3</th>\n",
       "      <td>1</td>\n",
       "      <td>430</td>\n",
       "      <td>2.0</td>\n",
       "      <td>2</td>\n",
       "      <td>2.0</td>\n",
       "      <td>5</td>\n",
       "      <td>Turkish</td>\n",
       "      <td>3</td>\n",
       "      <td>1.0</td>\n",
       "      <td>4</td>\n",
       "      <td>5</td>\n",
       "      <td>2</td>\n",
       "      <td>1.0</td>\n",
       "    </tr>\n",
       "    <tr>\n",
       "      <th>4</th>\n",
       "      <td>1</td>\n",
       "      <td>720</td>\n",
       "      <td>2.0</td>\n",
       "      <td>2</td>\n",
       "      <td>2.0</td>\n",
       "      <td>4</td>\n",
       "      <td>Italian</td>\n",
       "      <td>1</td>\n",
       "      <td>3.0</td>\n",
       "      <td>4</td>\n",
       "      <td>4</td>\n",
       "      <td>3</td>\n",
       "      <td>1.0</td>\n",
       "    </tr>\n",
       "  </tbody>\n",
       "</table>\n",
       "</div>"
      ],
      "text/plain": [
       "   breakfast  calories_chicken  cuisine  diet_current_coded  drink  \\\n",
       "0          1               430      NaN                   1    1.0   \n",
       "1          1               610      1.0                   2    2.0   \n",
       "2          1               720      3.0                   3    1.0   \n",
       "3          1               430      2.0                   2    2.0   \n",
       "4          1               720      2.0                   2    2.0   \n",
       "\n",
       "   ethnic_food     fav_cuisine  fav_cuisine_coded  fav_food  fruit_day  \\\n",
       "0            1  Arabic cuisine                  3       1.0          5   \n",
       "1            4         Italian                  1       1.0          4   \n",
       "2            5         italian                  1       3.0          5   \n",
       "3            5        Turkish                   3       1.0          4   \n",
       "4            4        Italian                   1       3.0          4   \n",
       "\n",
       "   greek_food  nutritional_check  soup  \n",
       "0           5                  5   1.0  \n",
       "1           4                  4   1.0  \n",
       "2           5                  4   1.0  \n",
       "3           5                  2   1.0  \n",
       "4           4                  3   1.0  "
      ]
     },
     "execution_count": 4,
     "metadata": {},
     "output_type": "execute_result"
    }
   ],
   "source": [
    "data.head(5)"
   ]
  },
  {
   "cell_type": "code",
   "execution_count": 5,
   "metadata": {},
   "outputs": [],
   "source": [
    "y = data.loc[:,'fav_cuisine_coded']\n",
    "label = data.loc[:,'fav_cuisine']\n",
    "X = data.drop(['fav_cuisine_coded', 'fav_cuisine'], axis = 1)"
   ]
  },
  {
   "cell_type": "code",
   "execution_count": 11,
   "metadata": {},
   "outputs": [
    {
     "data": {
      "text/plain": [
       "0      3\n",
       "1      1\n",
       "2      1\n",
       "3      3\n",
       "4      1\n",
       "5      6\n",
       "6      4\n",
       "7      5\n",
       "8      1\n",
       "9      1\n",
       "10     4\n",
       "11     1\n",
       "12     4\n",
       "13     1\n",
       "14     4\n",
       "15     1\n",
       "16     7\n",
       "17     5\n",
       "18     5\n",
       "19     1\n",
       "20     2\n",
       "21     8\n",
       "22     1\n",
       "23     4\n",
       "24     4\n",
       "25     0\n",
       "26     1\n",
       "27     2\n",
       "28     1\n",
       "29     8\n",
       "      ..\n",
       "95     5\n",
       "96     1\n",
       "97     1\n",
       "98     1\n",
       "99     1\n",
       "100    1\n",
       "101    4\n",
       "102    1\n",
       "103    8\n",
       "104    1\n",
       "105    1\n",
       "106    4\n",
       "107    1\n",
       "108    1\n",
       "109    1\n",
       "110    1\n",
       "111    0\n",
       "112    1\n",
       "113    1\n",
       "114    4\n",
       "115    0\n",
       "116    4\n",
       "117    4\n",
       "118    5\n",
       "119    8\n",
       "120    1\n",
       "121    2\n",
       "122    4\n",
       "123    1\n",
       "124    2\n",
       "Name: fav_cuisine_coded, Length: 125, dtype: int64"
      ]
     },
     "execution_count": 11,
     "metadata": {},
     "output_type": "execute_result"
    }
   ],
   "source": [
    "y"
   ]
  },
  {
   "cell_type": "code",
   "execution_count": 7,
   "metadata": {},
   "outputs": [],
   "source": [
    "X.fillna(0, inplace = True)"
   ]
  },
  {
   "cell_type": "code",
   "execution_count": 8,
   "metadata": {},
   "outputs": [],
   "source": [
    "from sklearn.model_selection import train_test_split\n",
    "X_train, X_test, y_train, y_test = train_test_split(X,y,test_size = 0.2, random_state = 42)"
   ]
  },
  {
   "cell_type": "code",
   "execution_count": 10,
   "metadata": {},
   "outputs": [
    {
     "data": {
      "text/plain": [
       "0.48"
      ]
     },
     "execution_count": 10,
     "metadata": {},
     "output_type": "execute_result"
    }
   ],
   "source": [
    "len(y_train[y_train==1])/len(y_train)"
   ]
  },
  {
   "cell_type": "code",
   "execution_count": 49,
   "metadata": {},
   "outputs": [
    {
     "name": "stderr",
     "output_type": "stream",
     "text": [
      "/Users/WenHsu/anaconda3/lib/python3.6/site-packages/sklearn/model_selection/_split.py:605: Warning: The least populated class in y has only 1 members, which is too few. The minimum number of members in any class cannot be less than n_splits=3.\n",
      "  % (min_groups, self.n_splits)), Warning)\n"
     ]
    },
    {
     "name": "stdout",
     "output_type": "stream",
     "text": [
      "0.44\n"
     ]
    }
   ],
   "source": [
    "from sklearn.tree import DecisionTreeClassifier\n",
    "from sklearn.metrics import accuracy_score\n",
    "from sklearn.model_selection import GridSearchCV\n",
    "from sklearn.metrics import r2_score, make_scorer\n",
    "import pickle\n",
    "params = {'max_depth':range(1,8), 'min_samples_split':range(2,20)}\n",
    "scoring_fnc = make_scorer(accuracy_score)\n",
    "grid = GridSearchCV(clf, params, scoring_fnc)\n",
    "clf = DecisionTreeClassifier()\n",
    "grid = grid.fit(X_train, y_train)\n",
    "TC = grid.best_estimator_\n",
    "y_pred = TC.predict(X_test)\n",
    "score = accuracy_score(y_test, y_pred)\n",
    "print(score)\n",
    "\n",
    "filename = 'finalized_model.sav'\n",
    "pickle.dump(TC, open(filename, 'wb'))\n",
    "# clf.fit(X_train, y_train)\n",
    "# y_pred = clf.predict(X_test)\n",
    "# score = accuracy_score(y_test, y_pred)\n",
    "# print(score)"
   ]
  },
  {
   "cell_type": "code",
   "execution_count": 50,
   "metadata": {},
   "outputs": [
    {
     "data": {
      "text/plain": [
       "array([1, 1, 1, 1, 1, 1, 1, 1, 1, 1, 1, 1, 1, 1, 1, 1, 1, 1, 1, 1, 1, 1, 1,\n",
       "       1, 1])"
      ]
     },
     "execution_count": 50,
     "metadata": {},
     "output_type": "execute_result"
    }
   ],
   "source": [
    "y_pred"
   ]
  },
  {
   "cell_type": "code",
   "execution_count": 9,
   "metadata": {},
   "outputs": [],
   "source": [
    "y_pred = clf.predict(X_train)\n",
    "score = accuracy_score(y_train, y_pred)"
   ]
  },
  {
   "cell_type": "code",
   "execution_count": 10,
   "metadata": {},
   "outputs": [
    {
     "data": {
      "text/plain": [
       "0.98999999999999999"
      ]
     },
     "execution_count": 10,
     "metadata": {},
     "output_type": "execute_result"
    }
   ],
   "source": [
    "score"
   ]
  },
  {
   "cell_type": "code",
   "execution_count": 18,
   "metadata": {},
   "outputs": [
    {
     "data": {
      "text/plain": [
       "range(1, 20)"
      ]
     },
     "execution_count": 18,
     "metadata": {},
     "output_type": "execute_result"
    }
   ],
   "source": [
    "range(1,20)"
   ]
  },
  {
   "cell_type": "code",
   "execution_count": 26,
   "metadata": {},
   "outputs": [
    {
     "name": "stdout",
     "output_type": "stream",
     "text": [
      "[1 1 1 1 1 1 1 1 1 1 1 1 1 1 1 1 1 1 1 1 1 1 1 1 1 1 1 1 1 1 1 1 1 1 1 1 1\n",
      " 1 1 1 1 1 1 1 1 1 1 1 1 1 1 1 1 1 1 1 1 1 1 1 1 1 1 1 1 1 1 1 1 1 1 1 1 1\n",
      " 1 1 1 1 1 1 1 1 1 1 1 1 1 1 1 1 1 1 1 1 1 1 1 1 1 1]\n"
     ]
    }
   ],
   "source": [
    "import pickle\n",
    "filename = 'finalized_model.sav'\n",
    "loaded_model = pickle.load(open(filename, 'rb'))\n",
    "y = loaded_model.predict(X_train)\n",
    "print(y)"
   ]
  },
  {
   "cell_type": "code",
   "execution_count": 30,
   "metadata": {},
   "outputs": [],
   "source": [
    "import urllib.request\n",
    "contents = urllib.request.urlopen(\"https://firechat-aeebc.firebaseio.com/Users/LR_2gJ92Y8wsRM-jiIC\").read()"
   ]
  },
  {
   "cell_type": "code",
   "execution_count": 31,
   "metadata": {},
   "outputs": [
    {
     "data": {
      "text/plain": [
       "b'\\n<!DOCTYPE html>\\n<html lang=\"en\">\\n  <head>\\n  <meta charset=\"utf-8\">\\n  <meta content=\"width=300, initial-scale=1\" name=\"viewport\">\\n  <meta name=\"google-site-verification\" content=\"LrdTUW9psUAMbh4Ia074-BPEVmcpBxF6Gwf0MSgQXZs\">\\n  <title>Sign in - Google Accounts</title>\\n  <style>\\n  @font-face {\\n  font-family: \\'Open Sans\\';\\n  font-style: normal;\\n  font-weight: 300;\\n  src: local(\\'Open Sans Light\\'), local(\\'OpenSans-Light\\'), url(//fonts.gstatic.com/s/opensans/v15/mem5YaGs126MiZpBA-UN_r8OUuhs.ttf) format(\\'truetype\\');\\n}\\n@font-face {\\n  font-family: \\'Open Sans\\';\\n  font-style: normal;\\n  font-weight: 400;\\n  src: local(\\'Open Sans\\'), local(\\'OpenSans\\'), url(//fonts.gstatic.com/s/opensans/v15/mem8YaGs126MiZpBA-UFVZ0e.ttf) format(\\'truetype\\');\\n}\\n  </style>\\n  <style>\\n  h1, h2 {\\n  -webkit-animation-duration: 0.1s;\\n  -webkit-animation-name: fontfix;\\n  -webkit-animation-iteration-count: 1;\\n  -webkit-animation-timing-function: linear;\\n  -webkit-animation-delay: 0;\\n  }\\n  @-webkit-keyframes fontfix {\\n  from {\\n  opacity: 1;\\n  }\\n  to {\\n  opacity: 1;\\n  }\\n  }\\n  </style>\\n<style>\\n  html, body {\\n  font-family: Arial, sans-serif;\\n  background: #fff;\\n  margin: 0;\\n  padding: 0;\\n  border: 0;\\n  position: absolute;\\n  height: 100%;\\n  min-width: 100%;\\n  font-size: 13px;\\n  color: #404040;\\n  direction: ltr;\\n  -webkit-text-size-adjust: none;\\n  }\\n  button,\\n  input[type=button],\\n  input[type=submit] {\\n  font-family: Arial, sans-serif;\\n  font-size: 13px;\\n  }\\n  a,\\n  a:hover,\\n  a:visited {\\n  color: #427fed;\\n  cursor: pointer;\\n  text-decoration: none;\\n  }\\n  a:hover {\\n  text-decoration: underline;\\n  }\\n  h1 {\\n  font-size: 20px;\\n  color: #262626;\\n  margin: 0 0 15px;\\n  font-weight: normal;\\n  }\\n  h2 {\\n  font-size: 14px;\\n  color: #262626;\\n  margin: 0 0 15px;\\n  font-weight: bold;\\n  }\\n  input[type=email],\\n  input[type=number],\\n  input[type=password],\\n  input[type=tel],\\n  input[type=text],\\n  input[type=url] {\\n  -moz-appearance: none;\\n  -webkit-appearance: none;\\n  appearance: none;\\n  display: inline-block;\\n  height: 36px;\\n  padding: 0 8px;\\n  margin: 0;\\n  background: #fff;\\n  border: 1px solid #d9d9d9;\\n  border-top: 1px solid #c0c0c0;\\n  -moz-box-sizing: border-box;\\n  -webkit-box-sizing: border-box;\\n  box-sizing: border-box;\\n  -moz-border-radius: 1px;\\n  -webkit-border-radius: 1px;\\n  border-radius: 1px;\\n  font-size: 15px;\\n  color: #404040;\\n  }\\n  input[type=email]:hover,\\n  input[type=number]:hover,\\n  input[type=password]:hover,\\n  input[type=tel]:hover,\\n  input[type=text]:hover,\\n  input[type=url]:hover {\\n  border: 1px solid #b9b9b9;\\n  border-top: 1px solid #a0a0a0;\\n  -moz-box-shadow: inset 0 1px 2px rgba(0,0,0,0.1);\\n  -webkit-box-shadow: inset 0 1px 2px rgba(0,0,0,0.1);\\n  box-shadow: inset 0 1px 2px rgba(0,0,0,0.1);\\n  }\\n  input[type=email]:focus,\\n  input[type=number]:focus,\\n  input[type=password]:focus,\\n  input[type=tel]:focus,\\n  input[type=text]:focus,\\n  input[type=url]:focus {\\n  outline: none;\\n  border: 1px solid #4d90fe;\\n  -moz-box-shadow: inset 0 1px 2px rgba(0,0,0,0.3);\\n  -webkit-box-shadow: inset 0 1px 2px rgba(0,0,0,0.3);\\n  box-shadow: inset 0 1px 2px rgba(0,0,0,0.3);\\n  }\\n  input[type=checkbox],\\n  input[type=radio] {\\n  -webkit-appearance: none;\\n  display: inline-block;\\n  width: 13px;\\n  height: 13px;\\n  margin: 0;\\n  cursor: pointer;\\n  vertical-align: bottom;\\n  background: #fff;\\n  border: 1px solid #c6c6c6;\\n  -moz-border-radius: 1px;\\n  -webkit-border-radius: 1px;\\n  border-radius: 1px;\\n  -moz-box-sizing: border-box;\\n  -webkit-box-sizing: border-box;\\n  box-sizing: border-box;\\n  position: relative;\\n  }\\n  input[type=checkbox]:active,\\n  input[type=radio]:active {\\n  background: #ebebeb;\\n  }\\n  input[type=checkbox]:hover {\\n  border-color: #c6c6c6;\\n  -moz-box-shadow: inset 0 1px 2px rgba(0,0,0,0.1);\\n  -webkit-box-shadow: inset 0 1px 2px rgba(0,0,0,0.1);\\n  box-shadow: inset 0 1px 2px rgba(0,0,0,0.1);\\n  }\\n  input[type=radio] {\\n  -moz-border-radius: 1em;\\n  -webkit-border-radius: 1em;\\n  border-radius: 1em;\\n  width: 15px;\\n  height: 15px;\\n  }\\n  input[type=checkbox]:checked,\\n  input[type=radio]:checked {\\n  background: #fff;\\n  }\\n  input[type=radio]:checked::after {\\n  content: \\'\\';\\n  display: block;\\n  position: relative;\\n  top: 3px;\\n  left: 3px;\\n  width: 7px;\\n  height: 7px;\\n  background: #666;\\n  -moz-border-radius: 1em;\\n  -webkit-border-radius: 1em;\\n  border-radius: 1em;\\n  }\\n  input[type=checkbox]:checked::after {\\n  content: url(https://ssl.gstatic.com/ui/v1/menu/checkmark.png);\\n  display: block;\\n  position: absolute;\\n  top: -6px;\\n  left: -5px;\\n  }\\n  input[type=checkbox]:focus {\\n  outline: none;\\n  border-color: #4d90fe;\\n  }\\n  .stacked-label {\\n  display: block;\\n  font-weight: bold;\\n  margin: .5em 0;\\n  }\\n  .hidden-label {\\n  position: absolute !important;\\n  clip: rect(1px 1px 1px 1px); /* IE6, IE7 */\\n  clip: rect(1px, 1px, 1px, 1px);\\n  height: 0px;\\n  width: 0px;\\n  overflow: hidden;\\n  visibility: hidden;\\n  }\\n  input[type=checkbox].form-error,\\n  input[type=email].form-error,\\n  input[type=number].form-error,\\n  input[type=password].form-error,\\n  input[type=text].form-error,\\n  input[type=tel].form-error,\\n  input[type=url].form-error {\\n  border: 1px solid #dd4b39;\\n  }\\n  .error-msg {\\n  margin: .5em 0;\\n  display: block;\\n  color: #dd4b39;\\n  line-height: 17px;\\n  }\\n  .help-link {\\n  background: #dd4b39;\\n  padding: 0 5px;\\n  color: #fff;\\n  font-weight: bold;\\n  display: inline-block;\\n  -moz-border-radius: 1em;\\n  -webkit-border-radius: 1em;\\n  border-radius: 1em;\\n  text-decoration: none;\\n  position: relative;\\n  top: 0px;\\n  }\\n  .help-link:visited {\\n  color: #fff;\\n  }\\n  .help-link:hover {\\n  color: #fff;\\n  background: #c03523;\\n  text-decoration: none;\\n  }\\n  .help-link:active {\\n  opacity: 1;\\n  background: #ae2817;\\n  }\\n  .wrapper {\\n  position: relative;\\n  min-height: 100%;\\n  }\\n  .content {\\n  padding: 0 44px;\\n  }\\n  .main {\\n  padding-bottom: 100px;\\n  }\\n  /* For modern browsers */\\n  .clearfix:before,\\n  .clearfix:after {\\n  content: \"\";\\n  display: table;\\n  }\\n  .clearfix:after {\\n  clear: both;\\n  }\\n  /* For IE 6/7 (trigger hasLayout) */\\n  .clearfix {\\n  zoom:1;\\n  }\\n  .google-header-bar {\\n  height: 71px;\\n  border-bottom: 1px solid #e5e5e5;\\n  overflow: hidden;\\n  }\\n  .header .logo {\\n  background-image: url(https://ssl.gstatic.com/accounts/ui/logo_1x.png);\\n  background-size: 116px 38px;\\n  background-repeat: no-repeat;\\n  margin: 17px 0 0;\\n  float: left;\\n  height: 38px;\\n  width: 116px;\\n  }\\n  .header .logo-w {\\n  background-image: url(https://ssl.gstatic.com/images/branding/googlelogo/1x/googlelogo_color_112x36dp.png);\\n  background-size: 112px 36px;\\n  margin: 21px 0 0;\\n  }\\n  .header .secondary-link {\\n  margin: 28px 0 0;\\n  float: right;\\n  }\\n  .header .secondary-link a {\\n  font-weight: normal;\\n  }\\n  .google-header-bar.centered {\\n  border: 0;\\n  height: 108px;\\n  }\\n  .google-header-bar.centered .header .logo {\\n  float: none;\\n  margin: 40px auto 30px;\\n  display: block;\\n  }\\n  .google-header-bar.centered .header .secondary-link {\\n  display: none\\n  }\\n  .google-footer-bar {\\n  position: absolute;\\n  bottom: 0;\\n  height: 35px;\\n  width: 100%;\\n  border-top: 1px solid #e5e5e5;\\n  overflow: hidden;\\n  }\\n  .footer {\\n  padding-top: 7px;\\n  font-size: .85em;\\n  white-space: nowrap;\\n  line-height: 0;\\n  }\\n  .footer ul {\\n  float: left;\\n  max-width: 80%;\\n  min-height: 16px;\\n  padding: 0;\\n  }\\n  .footer ul li {\\n  color: #737373;\\n  display: inline;\\n  padding: 0;\\n  padding-right: 1.5em;\\n  }\\n  .footer a {\\n  color: #737373;\\n  }\\n  .lang-chooser-wrap {\\n  float: right;\\n  display: inline;\\n  }\\n  .lang-chooser-wrap img {\\n  vertical-align: top;\\n  }\\n  .lang-chooser {\\n  font-size: 13px;\\n  height: 24px;\\n  line-height: 24px;\\n  }\\n  .lang-chooser option {\\n  font-size: 13px;\\n  line-height: 24px;\\n  }\\n  .hidden {\\n  height: 0px;\\n  width: 0px;\\n  overflow: hidden;\\n  visibility: hidden;\\n  display: none !important;\\n  }\\n  .banner {\\n  text-align: center;\\n  }\\n  .card {\\n  background-color: #f7f7f7;\\n  padding: 20px 25px 30px;\\n  margin: 0 auto 25px;\\n  width: 304px;\\n  -moz-border-radius: 2px;\\n  -webkit-border-radius: 2px;\\n  border-radius: 2px;\\n  -moz-box-shadow: 0px 2px 2px rgba(0, 0, 0, 0.3);\\n  -webkit-box-shadow: 0px 2px 2px rgba(0, 0, 0, 0.3);\\n  box-shadow: 0px 2px 2px rgba(0, 0, 0, 0.3);\\n  }\\n  .card > *:first-child {\\n  margin-top: 0;\\n  }\\n  .rc-button,\\n  .rc-button:visited {\\n  display: inline-block;\\n  min-width: 46px;\\n  text-align: center;\\n  color: #444;\\n  font-size: 14px;\\n  font-weight: 700;\\n  height: 36px;\\n  padding: 0 8px;\\n  line-height: 36px;\\n  -moz-border-radius: 3px;\\n  -webkit-border-radius: 3px;\\n  border-radius: 3px;\\n  -o-transition: all 0.218s;\\n  -moz-transition: all 0.218s;\\n  -webkit-transition: all 0.218s;\\n  transition: all 0.218s;\\n  border: 1px solid #dcdcdc;\\n  background-color: #f5f5f5;\\n  background-image: -webkit-linear-gradient(top,#f5f5f5,#f1f1f1);\\n  background-image: -moz-linear-gradient(top,#f5f5f5,#f1f1f1);\\n  background-image: -ms-linear-gradient(top,#f5f5f5,#f1f1f1);\\n  background-image: -o-linear-gradient(top,#f5f5f5,#f1f1f1);\\n  background-image: linear-gradient(top,#f5f5f5,#f1f1f1);\\n  -o-transition: none;\\n  -moz-user-select: none;\\n  -webkit-user-select: none;\\n  user-select: none;\\n  cursor: default;\\n  }\\n  .card .rc-button {\\n  width: 100%;\\n  padding: 0;\\n  }\\n  .rc-button.disabled,\\n  .rc-button[disabled] {\\n  opacity: .5;\\n  filter: alpha(opacity=50);\\n  cursor: default;\\n  pointer-events: none;\\n  }\\n  .rc-button:hover {\\n  border: 1px solid #c6c6c6;\\n  color: #333;\\n  text-decoration: none;\\n  -o-transition: all 0.0s;\\n  -moz-transition: all 0.0s;\\n  -webkit-transition: all 0.0s;\\n  transition: all 0.0s;\\n  background-color: #f8f8f8;\\n  background-image: -webkit-linear-gradient(top,#f8f8f8,#f1f1f1);\\n  background-image: -moz-linear-gradient(top,#f8f8f8,#f1f1f1);\\n  background-image: -ms-linear-gradient(top,#f8f8f8,#f1f1f1);\\n  background-image: -o-linear-gradient(top,#f8f8f8,#f1f1f1);\\n  background-image: linear-gradient(top,#f8f8f8,#f1f1f1);\\n  -moz-box-shadow: 0 1px 1px rgba(0,0,0,0.1);\\n  -webkit-box-shadow: 0 1px 1px rgba(0,0,0,0.1);\\n  box-shadow: 0 1px 1px rgba(0,0,0,0.1);\\n  }\\n  .rc-button:active {\\n  background-color: #f6f6f6;\\n  background-image: -webkit-linear-gradient(top,#f6f6f6,#f1f1f1);\\n  background-image: -moz-linear-gradient(top,#f6f6f6,#f1f1f1);\\n  background-image: -ms-linear-gradient(top,#f6f6f6,#f1f1f1);\\n  background-image: -o-linear-gradient(top,#f6f6f6,#f1f1f1);\\n  background-image: linear-gradient(top,#f6f6f6,#f1f1f1);\\n  -moz-box-shadow: 0 1px 2px rgba(0,0,0,0.1);\\n  -webkit-box-shadow: 0 1px 2px rgba(0,0,0,0.1);\\n  box-shadow: 0 1px 2px rgba(0,0,0,0.1);\\n  }\\n  .rc-button-submit,\\n  .rc-button-submit:visited {\\n  border: 1px solid #3079ed;\\n  color: #fff;\\n  text-shadow: 0 1px rgba(0,0,0,0.1);\\n  background-color: #4d90fe;\\n  background-image: -webkit-linear-gradient(top,#4d90fe,#4787ed);\\n  background-image: -moz-linear-gradient(top,#4d90fe,#4787ed);\\n  background-image: -ms-linear-gradient(top,#4d90fe,#4787ed);\\n  background-image: -o-linear-gradient(top,#4d90fe,#4787ed);\\n  background-image: linear-gradient(top,#4d90fe,#4787ed);\\n  }\\n  .rc-button-submit:hover {\\n  border: 1px solid #2f5bb7;\\n  color: #fff;\\n  text-shadow: 0 1px rgba(0,0,0,0.3);\\n  background-color: #357ae8;\\n  background-image: -webkit-linear-gradient(top,#4d90fe,#357ae8);\\n  background-image: -moz-linear-gradient(top,#4d90fe,#357ae8);\\n  background-image: -ms-linear-gradient(top,#4d90fe,#357ae8);\\n  background-image: -o-linear-gradient(top,#4d90fe,#357ae8);\\n  background-image: linear-gradient(top,#4d90fe,#357ae8);\\n  }\\n  .rc-button-submit:active {\\n  background-color: #357ae8;\\n  background-image: -webkit-linear-gradient(top,#4d90fe,#357ae8);\\n  background-image: -moz-linear-gradient(top,#4d90fe,#357ae8);\\n  background-image: -ms-linear-gradient(top,#4d90fe,#357ae8);\\n  background-image: -o-linear-gradient(top,#4d90fe,#357ae8);\\n  background-image: linear-gradient(top,#4d90fe,#357ae8);\\n  -moz-box-shadow: inset 0 1px 2px rgba(0,0,0,0.3);\\n  -webkit-box-shadow: inset 0 1px 2px rgba(0,0,0,0.3);\\n  box-shadow: inset 0 1px 2px rgba(0,0,0,0.3);\\n  }\\n  .rc-button-red,\\n  .rc-button-red:visited {\\n  border: 1px solid transparent;\\n  color: #fff;\\n  text-shadow: 0 1px rgba(0,0,0,0.1);\\n  background-color: #d14836;\\n  background-image: -webkit-linear-gradient(top,#dd4b39,#d14836);\\n  background-image: -moz-linear-gradient(top,#dd4b39,#d14836);\\n  background-image: -ms-linear-gradient(top,#dd4b39,#d14836);\\n  background-image: -o-linear-gradient(top,#dd4b39,#d14836);\\n  background-image: linear-gradient(top,#dd4b39,#d14836);\\n  }\\n  .rc-button-red:hover {\\n  border: 1px solid #b0281a;\\n  color: #fff;\\n  text-shadow: 0 1px rgba(0,0,0,0.3);\\n  background-color: #c53727;\\n  background-image: -webkit-linear-gradient(top,#dd4b39,#c53727);\\n  background-image: -moz-linear-gradient(top,#dd4b39,#c53727);\\n  background-image: -ms-linear-gradient(top,#dd4b39,#c53727);\\n  background-image: -o-linear-gradient(top,#dd4b39,#c53727);\\n  background-image: linear-gradient(top,#dd4b39,#c53727);\\n  }\\n  .rc-button-red:active {\\n  border: 1px solid #992a1b;\\n  background-color: #b0281a;\\n  background-image: -webkit-linear-gradient(top,#dd4b39,#b0281a);\\n  background-image: -moz-linear-gradient(top,#dd4b39,#b0281a);\\n  background-image: -ms-linear-gradient(top,#dd4b39,#b0281a);\\n  background-image: -o-linear-gradient(top,#dd4b39,#b0281a);\\n  background-image: linear-gradient(top,#dd4b39,#b0281a);\\n  -moz-box-shadow: inset 0 1px 2px rgba(0,0,0,0.3);\\n  -webkit-box-shadow: inset 0 1px 2px rgba(0,0,0,0.3);\\n  box-shadow: inset 0 1px 2px rgba(0,0,0,0.3);\\n  }\\n  .secondary-actions {\\n  text-align: center;\\n  }\\n</style>\\n<style media=\"screen and (max-width: 800px), screen and (max-height: 800px)\">\\n  .google-header-bar.centered {\\n  height: 83px;\\n  }\\n  .google-header-bar.centered .header .logo {\\n  margin: 25px auto 20px;\\n  }\\n  .card {\\n  margin-bottom: 20px;\\n  }\\n</style>\\n<style media=\"screen and (max-width: 580px)\">\\n  html, body {\\n  font-size: 14px;\\n  }\\n  .google-header-bar.centered {\\n  height: 73px;\\n  }\\n  .google-header-bar.centered .header .logo {\\n  margin: 20px auto 15px;\\n  }\\n  .content {\\n  padding-left: 10px;\\n  padding-right: 10px;\\n  }\\n  .hidden-small {\\n  display: none;\\n  }\\n  .card {\\n  padding: 20px 15px 30px;\\n  width: 270px;\\n  }\\n  .footer ul li {\\n  padding-right: 1em;\\n  }\\n  .lang-chooser-wrap {\\n  display: none;\\n  }\\n</style>\\n<style media=\"screen and (-webkit-min-device-pixel-ratio: 1.5), (min--moz-device-pixel-ratio: 1.5), (-o-min-device-pixel-ratio: 3 / 2), (min-device-pixel-ratio: 1.5)\">\\n  .header .logo {\\n  background-image: url(https://ssl.gstatic.com/accounts/ui/logo_2x.png);\\n  }\\n  .header .logo-w {\\n  background-image: url(https://ssl.gstatic.com/images/branding/googlelogo/2x/googlelogo_color_112x36dp.png);\\n  }\\n</style>\\n<style>\\n  pre.debug {\\n  font-family: monospace;\\n  position: absolute;\\n  left: 0;\\n  margin: 0;\\n  padding: 1.5em;\\n  font-size: 13px;\\n  background: #f1f1f1;\\n  border-top: 1px solid #e5e5e5;\\n  direction: ltr;\\n  white-space: pre-wrap;\\n  width: 90%;\\n  overflow: hidden;\\n  }\\n</style>\\n<style>\\n  .banner h1 {\\n  font-family: \\'Open Sans\\', arial;\\n  -webkit-font-smoothing: antialiased;\\n  color: #555;\\n  font-size: 42px;\\n  font-weight: 300;\\n  margin-top: 0;\\n  margin-bottom: 20px;\\n  }\\n  .banner h2 {\\n  font-family: \\'Open Sans\\', arial;\\n  -webkit-font-smoothing: antialiased;\\n  color: #555;\\n  font-size: 18px;\\n  font-weight: 400;\\n  margin-bottom: 20px;\\n  }\\n  .signin-card {\\n  width: 274px;\\n  padding: 40px 40px;\\n  }\\n  .signin-card .profile-img {\\n  width: 96px;\\n  height: 96px;\\n  margin: 0 auto 10px;\\n  display: block;\\n  -moz-border-radius: 50%;\\n  -webkit-border-radius: 50%;\\n  border-radius: 50%;\\n  }\\n  .signin-card .profile-name {\\n  font-size: 16px;\\n  font-weight: bold;\\n  text-align: center;\\n  margin: 10px 0 0;\\n  min-height: 1em;\\n  }\\n  .signin-card .profile-email {\\n  font-size: 16px;\\n  text-align: center;\\n  margin: 10px 0 20px 0;\\n  min-height: 1em;\\n  }\\n  .signin-card input[type=email],\\n  .signin-card input[type=password],\\n  .signin-card input[type=text],\\n  .signin-card input[type=submit] {\\n  width: 100%;\\n  display: block;\\n  margin-bottom: 10px;\\n  z-index: 1;\\n  position: relative;\\n  -moz-box-sizing: border-box;\\n  -webkit-box-sizing: border-box;\\n  box-sizing: border-box;\\n  }\\n  .signin-card #Email,\\n  .signin-card #Passwd,\\n  .signin-card .captcha {\\n  direction: ltr;\\n  height: 44px;\\n  font-size: 16px;\\n  }\\n  .signin-card #Email + .stacked-label {\\n  margin-top: 15px;\\n  }\\n  .signin-card #reauthEmail {\\n  display: block;\\n  margin-bottom: 10px;\\n  line-height: 36px;\\n  padding: 0 8px;\\n  font-size: 15px;\\n  color: #404040;\\n  line-height: 2;\\n  margin-bottom: 10px;\\n  font-size: 14px;\\n  text-align: center;\\n  overflow: hidden;\\n  text-overflow: ellipsis;\\n  white-space: nowrap;\\n  -moz-box-sizing: border-box;\\n  -webkit-box-sizing: border-box;\\n  box-sizing: border-box;\\n  }\\n  .one-google p {\\n  margin: 0 0 10px;\\n  color: #555;\\n  font-size: 14px;\\n  text-align: center;\\n  }\\n  .one-google p.create-account,\\n  .one-google p.switch-account {\\n  margin-bottom: 60px;\\n  }\\n  .one-google .logo-strip {\\n  background-repeat: no-repeat;\\n  display: block;\\n  margin: 10px auto;\\n  background-image: url(https://ssl.gstatic.com/accounts/ui/wlogostrip_230x17_1x.png);\\n  background-size: 230px 17px;\\n  width: 230px;\\n  height: 17px;\\n  }\\n</style>\\n<style media=\"screen and (max-width: 800px), screen and (max-height: 800px)\">\\n  .banner h1 {\\n  font-size: 38px;\\n  margin-bottom: 15px;\\n  }\\n  .banner h2 {\\n  margin-bottom: 15px;\\n  }\\n  .one-google p.create-account,\\n  .one-google p.switch-account {\\n  margin-bottom: 30px;\\n  }\\n  .signin-card #Email {\\n  margin-bottom: 0;\\n  }\\n  .signin-card #Passwd {\\n  margin-top: -1px;\\n  }\\n  .signin-card #Email.form-error,\\n  .signin-card #Passwd.form-error {\\n  z-index: 2;\\n  }\\n  .signin-card #Email:hover,\\n  .signin-card #Email:focus,\\n  .signin-card #Passwd:hover,\\n  .signin-card #Passwd:focus {\\n  z-index: 3;\\n  }\\n</style>\\n<style media=\"screen and (max-width: 580px)\">\\n  .banner h1 {\\n  font-size: 22px;\\n  margin-bottom: 15px;\\n  }\\n  .signin-card {\\n  width: 260px;\\n  padding: 20px 20px;\\n  margin: 0 auto 20px;\\n  }\\n  .signin-card .profile-img {\\n  width: 72px;\\n  height: 72px;\\n  -moz-border-radius: 72px;\\n  -webkit-border-radius: 72px;\\n  border-radius: 72px;\\n  }\\n</style>\\n<style media=\"screen and (-webkit-min-device-pixel-ratio: 1.5), (min--moz-device-pixel-ratio: 1.5), (-o-min-device-pixel-ratio: 3 / 2), (min-device-pixel-ratio: 1.5)\">\\n  .one-google .logo-strip {\\n  background-image: url(https://ssl.gstatic.com/accounts/ui/wlogostrip_230x17_2x.png);\\n  }\\n</style>\\n<style>\\n  .remember .bubble-wrap {\\n  position: absolute;\\n  padding-top: 3px;\\n  -o-transition: opacity .218s ease-in .218s;\\n  -moz-transition: opacity .218s ease-in .218s;\\n  -webkit-transition: opacity .218s ease-in .218s;\\n  transition: opacity .218s ease-in .218s;\\n  left: -999em;\\n  opacity: 0;\\n  width: 314px;\\n  margin-left: -20px;\\n  }\\n  .remember:hover .bubble-wrap,\\n  .remember input:focus ~ .bubble-wrap,\\n  .remember .bubble-wrap:hover,\\n  .remember .bubble-wrap:focus {\\n  opacity: 1;\\n  left: inherit;\\n  }\\n  .bubble-pointer {\\n  border-left: 10px solid transparent;\\n  border-right: 10px solid transparent;\\n  border-bottom: 10px solid #fff;\\n  width: 0;\\n  height: 0;\\n  margin-left: 17px;\\n  }\\n  .bubble {\\n  background-color: #fff;\\n  padding: 15px;\\n  margin-top: -1px;\\n  font-size: 11px;\\n  -moz-border-radius: 2px;\\n  -webkit-border-radius: 2px;\\n  border-radius: 2px;\\n  -moz-box-shadow: 0px 2px 2px rgba(0, 0, 0, 0.3);\\n  -webkit-box-shadow: 0px 2px 2px rgba(0, 0, 0, 0.3);\\n  box-shadow: 0px 2px 2px rgba(0, 0, 0, 0.3);\\n  }\\n  #stay-signed-in {\\n  float: left;\\n  }\\n  #stay-signed-in-tooltip {\\n  left: auto;\\n  margin-left: -20px;\\n  padding-top: 3px;\\n  position: absolute;\\n  top: 0;\\n  visibility: hidden;\\n  width: 314px;\\n  z-index: 1;\\n  }\\n  .dasher-tooltip {\\n  top: 380px;\\n  }\\n</style>\\n<style media=\"screen and (max-width: 800px), screen and (max-height: 800px)\">\\n  .dasher-tooltip {\\n  top: 340px;\\n  }\\n</style>\\n<style>\\n  .jfk-tooltip {\\n  background-color: #fff;\\n  border: 1px solid;\\n  color: #737373;\\n  font-size: 12px;\\n  position: absolute;\\n  z-index: 800 !important;\\n  border-color: #bbb #bbb #a8a8a8;\\n  padding: 16px;\\n  width: 250px;\\n  }\\n .jfk-tooltip h3 {\\n  color: #555;\\n  font-size: 12px;\\n  margin: 0 0 .5em;\\n  }\\n .jfk-tooltip-content p:last-child {\\n  margin-bottom: 0;\\n  }\\n  .jfk-tooltip-arrow {\\n  position: absolute;\\n  }\\n  .jfk-tooltip-arrow .jfk-tooltip-arrowimplbefore,\\n  .jfk-tooltip-arrow .jfk-tooltip-arrowimplafter {\\n  display: block;\\n  height: 0;\\n  position: absolute;\\n  width: 0;\\n  }\\n  .jfk-tooltip-arrow .jfk-tooltip-arrowimplbefore {\\n  border: 9px solid;\\n  }\\n  .jfk-tooltip-arrow .jfk-tooltip-arrowimplafter {\\n  border: 8px solid;\\n  }\\n  .jfk-tooltip-arrowdown {\\n  bottom: 0;\\n  }\\n  .jfk-tooltip-arrowup {\\n  top: -9px;\\n  }\\n  .jfk-tooltip-arrowleft {\\n  left: -9px;\\n  top: 30px;\\n  }\\n  .jfk-tooltip-arrowright {\\n  right: 0;\\n  top: 30px;\\n  }\\n  .jfk-tooltip-arrowdown .jfk-tooltip-arrowimplbefore,.jfk-tooltip-arrowup .jfk-tooltip-arrowimplbefore {\\n  border-color: #bbb transparent;\\n  left: -9px;\\n  }\\n  .jfk-tooltip-arrowdown .jfk-tooltip-arrowimplbefore {\\n  border-color: #a8a8a8 transparent;\\n  }\\n  .jfk-tooltip-arrowdown .jfk-tooltip-arrowimplafter,.jfk-tooltip-arrowup .jfk-tooltip-arrowimplafter {\\n  border-color: #fff transparent;\\n  left: -8px;\\n  }\\n  .jfk-tooltip-arrowdown .jfk-tooltip-arrowimplbefore {\\n  border-bottom-width: 0;\\n  }\\n  .jfk-tooltip-arrowdown .jfk-tooltip-arrowimplafter {\\n  border-bottom-width: 0;\\n  }\\n  .jfk-tooltip-arrowup .jfk-tooltip-arrowimplbefore {\\n  border-top-width: 0;\\n  }\\n  .jfk-tooltip-arrowup .jfk-tooltip-arrowimplafter {\\n  border-top-width: 0;\\n  top: 1px;\\n  }\\n  .jfk-tooltip-arrowleft .jfk-tooltip-arrowimplbefore,\\n  .jfk-tooltip-arrowright .jfk-tooltip-arrowimplbefore {\\n  border-color: transparent #bbb;\\n  top: -9px;\\n  }\\n  .jfk-tooltip-arrowleft .jfk-tooltip-arrowimplafter,\\n  .jfk-tooltip-arrowright .jfk-tooltip-arrowimplafter {\\n  border-color:transparent #fff;\\n  top:-8px;\\n  }\\n  .jfk-tooltip-arrowleft .jfk-tooltip-arrowimplbefore {\\n  border-left-width: 0;\\n  }\\n  .jfk-tooltip-arrowleft .jfk-tooltip-arrowimplafter {\\n  border-left-width: 0;\\n  left: 1px;\\n  }\\n  .jfk-tooltip-arrowright .jfk-tooltip-arrowimplbefore {\\n  border-right-width: 0;\\n  }\\n  .jfk-tooltip-arrowright .jfk-tooltip-arrowimplafter {\\n  border-right-width: 0;\\n  }\\n  .jfk-tooltip-closebtn {\\n  background: url(\"//ssl.gstatic.com/ui/v1/icons/common/x_8px.png\") no-repeat;\\n  border: 1px solid transparent;\\n  height: 21px;\\n  opacity: .4;\\n  outline: 0;\\n  position: absolute;\\n  right: 2px;\\n  top: 2px;\\n  width: 21px;\\n  }\\n  .jfk-tooltip-closebtn:focus,\\n  .jfk-tooltip-closebtn:hover {\\n  opacity: .8;\\n  cursor: pointer;\\n  }\\n  .jfk-tooltip-closebtn:focus {\\n  border-color: #4d90fe;\\n  }\\n</style>\\n<style media=\"screen and (max-width: 580px)\">\\n  .jfk-tooltip {\\n  display: none;\\n  }\\n</style>\\n<style type=\"text/css\">\\n.captcha-box {\\n  background: #fff;\\n  margin: 0 0 10px;\\n  overflow: hidden;\\n  padding: 10px;\\n}\\n.captcha-box .captcha-img {\\n  text-align: center;\\n}\\n.captcha-box .captcha-label {\\n  font-weight: bold;\\n  display: block;\\n  margin: .5em 0;\\n}\\n.captcha-box .captcha-msg {\\n  color: #999;\\n  display: block;\\n  position: relative;\\n}\\n.captcha-box .captcha-msg .accessibility-logo {\\n  float: right;\\n  border: 0;\\n}\\n.captcha-box .audio-box {\\n  position: absolute;\\n  top: 0;\\n}\\n</style>\\n<style>\\n.chromiumsync-custom-content {\\n  padding-top: 20px;\\n  margin-bottom: 0;\\n}\\n.form-panel {\\n  -webkit-box-sizing: border-box;\\n  box-sizing: border-box;\\n  -webkit-transform: translateZ(0);\\n  -moz-transform: translateZ(0);\\n  -ms-transform: translateZ(0);\\n  -o-transform: translateZ(0);\\n  transform: translateZ(0);\\n  width: 100%;\\n}\\n.form-panel.first {\\n  z-index: 2;\\n}\\n.form-panel.second {\\n  z-index: 1;\\n}\\n.shift-form .form-panel.first {\\n  z-index: 1;\\n}\\n.shift-form .form-panel.second {\\n  z-index: 2;\\n}\\n.slide-in,\\n.slide-out {\\n  display: block;\\n  -webkit-transition-property: -webkit-transform, opacity;\\n  -moz-transition-property: -moz-transform, opacity;\\n  -ms-transition-property: -ms-transform, opacity;\\n  -o-transition-property: -o-transform, opacity;\\n  transition-property: transform, opacity;\\n  -webkit-transition-duration: 0.1s;\\n  -moz-transition-duration: 0.1s;\\n  -ms-transition-duration: 0.1s;\\n  -o-transition-duration: 0.1s;\\n  transition-duration: 0.1s;\\n  -webkit-transition-timing-function: cubic-bezier(0.4, 0, 0.2, 1);\\n  -moz-transition-timing-function: cubic-bezier(0.4, 0, 0.2, 1);\\n  -ms-transition-timing-function: cubic-bezier(0.4, 0, 0.2, 1);\\n  -o-transition-timing-function: cubic-bezier(0.4, 0, 0.2, 1);\\n  transition-timing-function: cubic-bezier(0.4, 0, 0.2, 1);\\n}\\n.slide-out {\\n  -webkit-transform: translate3d(0, 0, 0);\\n  -moz-transform: translate3d(0, 0, 0);\\n  -ms-transform: translate3d(0, 0, 0);\\n  -o-transform: translate3d(0, 0, 0);\\n  transform: translate3d(0, 0, 0);\\n}\\n.shift-form .slide-out {\\n  opacity: 0;\\n  -webkit-transform: translate3d(-120%, 0, 0);\\n  -moz-transform: translate3d(-120%, 0, 0);\\n  -ms-transform: translate3d(-120%, 0, 0);\\n  -o-transform: translate3d(-120%, 0, 0);\\n  transform: translate3d(-120%, 0, 0);\\n}\\n.slide-in {\\n  -webkit-transform: translate3d(120%, 0, 0);\\n  -moz-transform: translate3d(120%, 0, 0);\\n  -ms-transform: translate3d(120%, 0, 0);\\n  -o-transform: translate3d(120%, 0, 0);\\n  transform: translate3d(120%, 0, 0);\\n}\\n.shift-form .slide-in {\\n  opacity: 1;\\n  -webkit-transform: translate3d(0, 0, 0);\\n  -moz-transform: translate3d(0, 0, 0);\\n  -ms-transform: translate3d(0, 0, 0);\\n  -o-transform: translate3d(0, 0, 0);\\n  transform: translate3d(0, 0, 0);\\n}\\n.error-msg {\\n  -webkit-transition: max-height 0.3s, opacity 0.3s 0s steps(10, end);\\n  -moz-transition: max-height 0.3s, opacity 0.3s 0s steps(10, end);\\n  -ms-transition: max-height 0.3s, opacity 0.3s 0s steps(10, end);\\n  -o-transition: max-height 0.3s, opacity 0.3s 0s steps(10, end);\\n  transition: max-height 0.3s, opacity 0.3s 0s steps(10, end);\\n  height: auto;\\n  max-height: 0;\\n  opacity: 0;\\n}\\n.has-error .error-msg {\\n  max-height: 3.5em;\\n  margin-top: 10px;\\n  margin-bottom: 10px;\\n  opacity: 1;\\n  visibility: visible;\\n}\\n.back-arrow {\\n  position: absolute;\\n  top: 37px;\\n  width: 24px;\\n  height: 24px;\\n  display: none;\\n  cursor: pointer;\\n}\\n.back-arrow {\\n  border-style: none;\\n}\\n.shift-form.back-arrow {\\n  display: block;\\n}\\n.back-arrow img {\\n  display: block;\\n}\\n#link-signup {\\n  text-align: center;\\n  font-size: 14px;\\n}\\n.shift-form #link-signup{\\n  display: none;\\n}\\n#link-signin-different {\\n  display: none;\\n  text-align: center;\\n  font-size: 14px;\\n}\\n.shift-form #link-signin-different {\\n  display: block;\\n}\\n.signin-card #profile-name {\\n  font-size: 16px;\\n  font-weight: bold;\\n  text-align: center;\\n  margin: 0;\\n  min-height: 1em;\\n}\\n.signin-card.no-name #profile-name {\\n  display: none;\\n}\\n.signin-card.no-name #email-display {\\n  line-height: initial;\\n  margin-bottom: 16px;\\n}\\n.signin-card #email-display {\\n  display: block;\\n  padding: 0px 8px;\\n  color: rgb(64, 64, 64);\\n  line-height: 2;\\n  margin-bottom: 10px;\\n  font-size: 14px;\\n  text-align: center;\\n  overflow: hidden;\\n  text-overflow: ellipsis;\\n  white-space: nowrap;\\n  -moz-box-sizing: border-box;\\n  -webkit-box-sizing: border-box;\\n  box-sizing: border-box;\\n}\\n.signin-card #Email {\\n  margin-top: 16px;\\n}\\n.need-help {\\n  float: right;\\n  text-align: right;\\n}\\n.form-panel {\\n  width: 274px;\\n}\\n#gaia_firstform {\\n  z-index: 2;\\n}\\n.signin-card {\\n  position: relative;\\n  overflow: hidden;\\n}\\n.signin-card #profile-name {\\n  color: #000;\\n}\\n.circle-mask {\\n  display: block;\\n  height: 96px;\\n  width: 96px;\\n  overflow: hidden;\\n  border-radius: 50%;\\n  margin-left: auto;\\n  margin-right: auto;\\n  z-index: 100;\\n  margin-bottom: 10px;\\n}\\n.circle {\\n  -webkit-transition-property: -webkit-transform;\\n  -moz-transition-property: -moz-transform;\\n  -ms-transition-property: -ms-transform;\\n  -o-transition-property: -o-transform;\\n  transition-property: transform;\\n  -webkit-transition-timing-function: cubic-bezier(.645,.045,.355,1);\\n  -moz-transition-timing-function: cubic-bezier(.645,.045,.355,1);\\n  -ms-transition-timing-function: cubic-bezier(.645,.045,.355,1);\\n  -o-transition-timing-function: cubic-bezier(.645,.045,.355,1);\\n  transition-timing-function: cubic-bezier(.645,.045,.355,1);\\n}\\n.circle {\\n  position: absolute;\\n  z-index: 101;\\n  height: 96px;\\n  width: 96px;\\n  border-radius: 50%;\\n  opacity: 0.99;\\n  overflow: hidden;\\n  background-repeat: no-repeat;\\n  background-position: center center;\\n}\\n.main {\\n  overflow: hidden;\\n}\\n.card-mask-wrap {\\n  position: relative;\\n  width: 360px;\\n  margin: 0 auto;\\n  z-index: 1;\\n}\\n.dasher-tooltip {\\n  position: absolute;\\n  left: 50%;\\n  margin-left: 150px;\\n}\\n.dasher-tooltip .tooltip-pointer {\\n  margin-top: 15px;\\n}\\n.dasher-tooltip p {\\n  margin-top: 0;\\n}\\n.dasher-tooltip p span {\\n  display: block;\\n}\\n.card {\\n  margin-bottom: 0;\\n}\\n.one-google {\\n  padding-top: 27px;\\n}\\n#canvas {\\n  -webkit-transition: opacity 0.075s;\\n  -moz-transition: opacity 0.075s;\\n  -ms-transition: opacity 0.075s;\\n  -o-transition: opacity 0.075s;\\n  transition: opacity 0.075s;\\n  opacity: 0.01;\\n}\\n.shift-form #canvas {\\n  opacity: 0.99;\\n}\\n.label {\\n  color: #404040;\\n}\\n#account-chooser-link {\\n  -webkit-transition: opacity 0.3s;\\n  -moz-transition: opacity 0.3s;\\n  -ms-transition: opacity 0.3s;\\n  -o-transition: opacity 0.3s;\\n  transition: opacity 0.3s;\\n}\\n.input-wrapper {\\n  position: relative;\\n}\\n.google-footer-bar {\\n  z-index: 2;\\n}\\n</style>\\n<style media=\"screen and (max-width: 580px)\">\\n.back-arrow {\\n  top: 17px;\\n}\\n.circle-mask {\\n  height: 72px;\\n  width: 72px;\\n  background-size: 72px;\\n}\\n.circle {\\n  height: 72px;\\n  width: 72px;\\n}\\n#canvas {\\n  height: 72px;\\n  width: 72px;\\n}\\n.form-panel {\\n  width: 256px;\\n}\\n.card-mask-wrap {\\n  width: 300px;\\n}\\n.signin-card {\\n  width: 256px;\\n}\\n.signin-card #EmailFirst {\\n  margin-top: 15px;\\n}\\n.one-google {\\n  padding-top: 22px;\\n}\\n</style>\\n  </head>\\n  <body>\\n  <div class=\"wrapper\">\\n  <div class=\"google-header-bar  centered\">\\n  <div class=\"header content clearfix\">\\n  <div class=\"logo logo-w\" aria-label=\"Google\"></div>\\n  </div>\\n  </div>\\n  <div class=\"main content clearfix\">\\n<div class=\"banner\">\\n<h1>\\n  One account. All of Google.\\n</h1>\\n  <h2 class=\"hidden-small\">\\n  Sign in with your Google Account\\n  </h2>\\n</div>\\n<div class=\"main-content \\n  \\n  \\n    no-name\\n  \\n  \\n  \\n\">\\n<div class=\"card signin-card\\n  \\n    pre-shift\\n  \\n  \\n  \\n   no-name\">\\n  <img class=\"circle-mask\"\\n      \\n        \\n          src=\"https://ssl.gstatic.com/accounts/ui/avatar_2x.png\"\\n        \\n      >\\n  <form novalidate method=\"post\" action=\"https://accounts.google.com/signin/v1/lookup\" id=\"gaia_loginform\">\\n  <input name=\"Page\" type=\"hidden\" value=\"PasswordSeparationSignIn\">\\n  <input type=\"hidden\" name=\"\" value=\"\">\\n  <input type=\"hidden\" name=\"gxf\" value=\"AFoagUV54wHNVMqP-jV3jAQ3ba33xC69iQ:1542517244899\">\\n  <input type=\"hidden\" name=\"continue\" value=\"https://console.firebase.google.com/project/firechat-aeebc/database/data/Users/LR_2gJ92Y8wsRM-jiIC\">\\n  <input type=\"hidden\" name=\"followup\" value=\"https://console.firebase.google.com/project/firechat-aeebc/database/data/Users/LR_2gJ92Y8wsRM-jiIC\">\\n  <input type=\"hidden\" name=\"osid\" value=\"1\">\\n  <input id=\"profile-information\" name=\"ProfileInformation\" type=\"hidden\" value=\"\">\\n  <input id=\"session-state\" name=\"SessionState\" type=\"hidden\" value=\"AEThLlykeA5lHIQj3Q1ntk6gFdZVf-LIMtLSEFt2nB-KJPVA2hvL6-gnUAZlL8c8ZoJkNAiN-8AA-N-TMLcTRivOGKH05blSdSHuODLkuvo-krru4OdaHOsjtk4ze_5E1aZC4PoOLb4RSgOaroF7VWvNHJNrmK4vRwJRCWTw75djBPdmkCtTPJQ\">\\n  <input name=\"flowName\" type=\"hidden\" value=\"GlifWebSignIn\">\\n  <input type=\"hidden\" id=\"_utf8\" name=\"_utf8\" value=\"&#9731;\"/>\\n  <input type=\"hidden\" name=\"bgresponse\" id=\"bgresponse\" value=\"js_disabled\">\\n  <div class=\"form-panel first valid\" id=\"gaia_firstform\">\\n  <div class=\"slide-out \">\\n  <div class=\"input-wrapper focused\">\\n  <div id=\"identifier-shown\">\\n  <div>\\n  <label class=\"hidden-label\" for=\"Email\">\\n  Enter your email</label>\\n  <input id=\"Email\" type=\"email\" value=\"\" spellcheck=\"false\"\\n                   name=\"Email\"\\n                   \\n                     placeholder=\"Email or phone\"\\n                   \\n                   \\n                   \\n                   autofocus>\\n  <input id=\"Passwd-hidden\" type=\"password\" spellcheck=\"false\" class=\"hidden\">\\n  </div>\\n  </div>\\n  <span role=\"alert\" class=\"error-msg\" id=\"errormsg_0_Email\"></span>\\n  </div>\\n<input id=\"next\" name=\"signIn\" class=\"rc-button rc-button-submit\" type=\"submit\" value=\"Next\">\\n  <a class=\"need-help\"\\n        href=\"https://accounts.google.com/signin/usernamerecovery?continue=https%3A%2F%2Fconsole.firebase.google.com%2Fproject%2Ffirechat-aeebc%2Fdatabase%2Fdata%2FUsers%2FLR_2gJ92Y8wsRM-jiIC&amp;osid=1&amp;hl=en\">\\n  Find my account\\n  </a>\\n  </div>\\n  </div>\\n  </form>\\n</div>\\n  <div class=\"card-mask-wrap\\n    \\n        \\n     no-name\">\\n  <div class=\"card-mask\">\\n  <div class=\"one-google\">\\n  <p class=\"create-account\">\\n  <span id=\"link-signin-different\">\\n  <a href=\"https://accounts.google.com/AccountChooser?continue=https%3A%2F%2Fconsole.firebase.google.com%2Fproject%2Ffirechat-aeebc%2Fdatabase%2Fdata%2FUsers%2FLR_2gJ92Y8wsRM-jiIC&amp;followup=https%3A%2F%2Fconsole.firebase.google.com%2Fproject%2Ffirechat-aeebc%2Fdatabase%2Fdata%2FUsers%2FLR_2gJ92Y8wsRM-jiIC&amp;osid=1\">\\n  Sign in with a different account\\n  </a>\\n  </span>\\n  <span id=\"link-signup\">\\n  <a href=\"https://accounts.google.com/SignUp?continue=https%3A%2F%2Fconsole.firebase.google.com%2Fproject%2Ffirechat-aeebc%2Fdatabase%2Fdata%2FUsers%2FLR_2gJ92Y8wsRM-jiIC\">\\n  Create account\\n  </a>\\n  </span>\\n  </p>\\n<p class=\"tagline\">\\n  One Google Account for everything Google\\n</p>\\n<div class=\"logo-strip\"></div>\\n  </div>\\n  </div>\\n  </div>\\n</div>\\n  </div>\\n  <div class=\"google-footer-bar\">\\n  <div class=\"footer content clearfix\">\\n  <ul id=\"footer-list\">\\n  <li>\\n  <a href=\"https://www.google.com/intl/en/about\" target=\"_blank\">\\n  About Google\\n  </a>\\n  </li>\\n  <li>\\n  <a href=\"https://accounts.google.com/TOS?loc=US&hl=en&privacy=true\" target=\"_blank\">\\n  Privacy\\n  </a>\\n  </li>\\n  <li>\\n  <a href=\"https://accounts.google.com/TOS?loc=US&hl=en\" target=\"_blank\">\\n  Terms\\n  </a>\\n  </li>\\n  <li>\\n  <a href=\"http://www.google.com/support/accounts?hl=en\" target=\"_blank\">\\n  Help\\n  </a>\\n  </li>\\n  </ul>\\n  <div id=\"lang-vis-control\" style=\"display: none\">\\n  <span id=\"lang-chooser-wrap\" class=\"lang-chooser-wrap\">\\n  <label for=\"lang-chooser\"><img src=\"//ssl.gstatic.com/images/icons/ui/common/universal_language_settings-21.png\" alt=\"Change language\"></label>\\n  <select id=\"lang-chooser\" class=\"lang-chooser\" name=\"lang-chooser\">\\n  <option value=\"af\"\\n                 >\\n  \\xe2\\x80\\xaaAfrikaans\\xe2\\x80\\xac\\n  </option>\\n  <option value=\"az\"\\n                 >\\n  \\xe2\\x80\\xaaaz\\xc9\\x99rbaycan\\xe2\\x80\\xac\\n  </option>\\n  <option value=\"ca\"\\n                 >\\n  \\xe2\\x80\\xaacatal\\xc3\\xa0\\xe2\\x80\\xac\\n  </option>\\n  <option value=\"cs\"\\n                 >\\n  \\xe2\\x80\\xaa\\xc4\\x8ce\\xc5\\xa1tina\\xe2\\x80\\xac\\n  </option>\\n  <option value=\"da\"\\n                 >\\n  \\xe2\\x80\\xaaDansk\\xe2\\x80\\xac\\n  </option>\\n  <option value=\"de\"\\n                 >\\n  \\xe2\\x80\\xaaDeutsch\\xe2\\x80\\xac\\n  </option>\\n  <option value=\"et\"\\n                 >\\n  \\xe2\\x80\\xaaeesti\\xe2\\x80\\xac\\n  </option>\\n  <option value=\"en-GB\"\\n                 >\\n  \\xe2\\x80\\xaaEnglish (United Kingdom)\\xe2\\x80\\xac\\n  </option>\\n  <option value=\"en\"\\n                \\n                  selected=\"selected\"\\n                 >\\n  \\xe2\\x80\\xaaEnglish (United States)\\xe2\\x80\\xac\\n  </option>\\n  <option value=\"es\"\\n                 >\\n  \\xe2\\x80\\xaaEspa\\xc3\\xb1ol (Espa\\xc3\\xb1a)\\xe2\\x80\\xac\\n  </option>\\n  <option value=\"es-419\"\\n                 >\\n  \\xe2\\x80\\xaaEspa\\xc3\\xb1ol (Latinoam\\xc3\\xa9rica)\\xe2\\x80\\xac\\n  </option>\\n  <option value=\"eu\"\\n                 >\\n  \\xe2\\x80\\xaaeuskara\\xe2\\x80\\xac\\n  </option>\\n  <option value=\"fil\"\\n                 >\\n  \\xe2\\x80\\xaaFilipino\\xe2\\x80\\xac\\n  </option>\\n  <option value=\"fr-CA\"\\n                 >\\n  \\xe2\\x80\\xaaFran\\xc3\\xa7ais (Canada)\\xe2\\x80\\xac\\n  </option>\\n  <option value=\"fr\"\\n                 >\\n  \\xe2\\x80\\xaaFran\\xc3\\xa7ais (France)\\xe2\\x80\\xac\\n  </option>\\n  <option value=\"gl\"\\n                 >\\n  \\xe2\\x80\\xaagalego\\xe2\\x80\\xac\\n  </option>\\n  <option value=\"hr\"\\n                 >\\n  \\xe2\\x80\\xaaHrvatski\\xe2\\x80\\xac\\n  </option>\\n  <option value=\"in\"\\n                 >\\n  \\xe2\\x80\\xaaIndonesia\\xe2\\x80\\xac\\n  </option>\\n  <option value=\"zu\"\\n                 >\\n  \\xe2\\x80\\xaaisiZulu\\xe2\\x80\\xac\\n  </option>\\n  <option value=\"is\"\\n                 >\\n  \\xe2\\x80\\xaa\\xc3\\xadslenska\\xe2\\x80\\xac\\n  </option>\\n  <option value=\"it\"\\n                 >\\n  \\xe2\\x80\\xaaItaliano\\xe2\\x80\\xac\\n  </option>\\n  <option value=\"sw\"\\n                 >\\n  \\xe2\\x80\\xaaKiswahili\\xe2\\x80\\xac\\n  </option>\\n  <option value=\"lv\"\\n                 >\\n  \\xe2\\x80\\xaalatvie\\xc5\\xa1u\\xe2\\x80\\xac\\n  </option>\\n  <option value=\"lt\"\\n                 >\\n  \\xe2\\x80\\xaalietuvi\\xc5\\xb3\\xe2\\x80\\xac\\n  </option>\\n  <option value=\"hu\"\\n                 >\\n  \\xe2\\x80\\xaamagyar\\xe2\\x80\\xac\\n  </option>\\n  <option value=\"ms\"\\n                 >\\n  \\xe2\\x80\\xaaMelayu\\xe2\\x80\\xac\\n  </option>\\n  <option value=\"nl\"\\n                 >\\n  \\xe2\\x80\\xaaNederlands\\xe2\\x80\\xac\\n  </option>\\n  <option value=\"no\"\\n                 >\\n  \\xe2\\x80\\xaanorsk\\xe2\\x80\\xac\\n  </option>\\n  <option value=\"pl\"\\n                 >\\n  \\xe2\\x80\\xaapolski\\xe2\\x80\\xac\\n  </option>\\n  <option value=\"pt\"\\n                 >\\n  \\xe2\\x80\\xaaPortugu\\xc3\\xaas (Brasil)\\xe2\\x80\\xac\\n  </option>\\n  <option value=\"pt-PT\"\\n                 >\\n  \\xe2\\x80\\xaaPortugu\\xc3\\xaas (Portugal)\\xe2\\x80\\xac\\n  </option>\\n  <option value=\"ro\"\\n                 >\\n  \\xe2\\x80\\xaarom\\xc3\\xa2n\\xc4\\x83\\xe2\\x80\\xac\\n  </option>\\n  <option value=\"sk\"\\n                 >\\n  \\xe2\\x80\\xaaSloven\\xc4\\x8dina\\xe2\\x80\\xac\\n  </option>\\n  <option value=\"sl\"\\n                 >\\n  \\xe2\\x80\\xaasloven\\xc5\\xa1\\xc4\\x8dina\\xe2\\x80\\xac\\n  </option>\\n  <option value=\"fi\"\\n                 >\\n  \\xe2\\x80\\xaaSuomi\\xe2\\x80\\xac\\n  </option>\\n  <option value=\"sv\"\\n                 >\\n  \\xe2\\x80\\xaaSvenska\\xe2\\x80\\xac\\n  </option>\\n  <option value=\"vi\"\\n                 >\\n  \\xe2\\x80\\xaaTi\\xe1\\xba\\xbfng Vi\\xe1\\xbb\\x87t\\xe2\\x80\\xac\\n  </option>\\n  <option value=\"tr\"\\n                 >\\n  \\xe2\\x80\\xaaT\\xc3\\xbcrk\\xc3\\xa7e\\xe2\\x80\\xac\\n  </option>\\n  <option value=\"el\"\\n                 >\\n  \\xe2\\x80\\xaa\\xce\\x95\\xce\\xbb\\xce\\xbb\\xce\\xb7\\xce\\xbd\\xce\\xb9\\xce\\xba\\xce\\xac\\xe2\\x80\\xac\\n  </option>\\n  <option value=\"bg\"\\n                 >\\n  \\xe2\\x80\\xaa\\xd0\\xb1\\xd1\\x8a\\xd0\\xbb\\xd0\\xb3\\xd0\\xb0\\xd1\\x80\\xd1\\x81\\xd0\\xba\\xd0\\xb8\\xe2\\x80\\xac\\n  </option>\\n  <option value=\"mn\"\\n                 >\\n  \\xe2\\x80\\xaa\\xd0\\xbc\\xd0\\xbe\\xd0\\xbd\\xd0\\xb3\\xd0\\xbe\\xd0\\xbb\\xe2\\x80\\xac\\n  </option>\\n  <option value=\"ru\"\\n                 >\\n  \\xe2\\x80\\xaa\\xd0\\xa0\\xd1\\x83\\xd1\\x81\\xd1\\x81\\xd0\\xba\\xd0\\xb8\\xd0\\xb9\\xe2\\x80\\xac\\n  </option>\\n  <option value=\"sr\"\\n                 >\\n  \\xe2\\x80\\xaa\\xd1\\x81\\xd1\\x80\\xd0\\xbf\\xd1\\x81\\xd0\\xba\\xd0\\xb8\\xe2\\x80\\xac\\n  </option>\\n  <option value=\"uk\"\\n                 >\\n  \\xe2\\x80\\xaa\\xd0\\xa3\\xd0\\xba\\xd1\\x80\\xd0\\xb0\\xd1\\x97\\xd0\\xbd\\xd1\\x81\\xd1\\x8c\\xd0\\xba\\xd0\\xb0\\xe2\\x80\\xac\\n  </option>\\n  <option value=\"ka\"\\n                 >\\n  \\xe2\\x80\\xaa\\xe1\\x83\\xa5\\xe1\\x83\\x90\\xe1\\x83\\xa0\\xe1\\x83\\x97\\xe1\\x83\\xa3\\xe1\\x83\\x9a\\xe1\\x83\\x98\\xe2\\x80\\xac\\n  </option>\\n  <option value=\"hy\"\\n                 >\\n  \\xe2\\x80\\xaa\\xd5\\xb0\\xd5\\xa1\\xd5\\xb5\\xd5\\xa5\\xd6\\x80\\xd5\\xa5\\xd5\\xb6\\xe2\\x80\\xac\\n  </option>\\n  <option value=\"iw\"\\n                 >\\n  \\xe2\\x80\\xab\\xd7\\xa2\\xd7\\x91\\xd7\\xa8\\xd7\\x99\\xd7\\xaa\\xe2\\x80\\xac\\xe2\\x80\\x8e\\n  </option>\\n  <option value=\"ur\"\\n                 >\\n  \\xe2\\x80\\xab\\xd8\\xa7\\xd8\\xb1\\xd8\\xaf\\xd9\\x88\\xe2\\x80\\xac\\xe2\\x80\\x8e\\n  </option>\\n  <option value=\"ar\"\\n                 >\\n  \\xe2\\x80\\xab\\xd8\\xa7\\xd9\\x84\\xd8\\xb9\\xd8\\xb1\\xd8\\xa8\\xd9\\x8a\\xd8\\xa9\\xe2\\x80\\xac\\xe2\\x80\\x8e\\n  </option>\\n  <option value=\"fa\"\\n                 >\\n  \\xe2\\x80\\xab\\xd9\\x81\\xd8\\xa7\\xd8\\xb1\\xd8\\xb3\\xdb\\x8c\\xe2\\x80\\xac\\xe2\\x80\\x8e\\n  </option>\\n  <option value=\"am\"\\n                 >\\n  \\xe2\\x80\\xaa\\xe1\\x8a\\xa0\\xe1\\x88\\x9b\\xe1\\x88\\xad\\xe1\\x8a\\x9b\\xe2\\x80\\xac\\n  </option>\\n  <option value=\"ne\"\\n                 >\\n  \\xe2\\x80\\xaa\\xe0\\xa4\\xa8\\xe0\\xa5\\x87\\xe0\\xa4\\xaa\\xe0\\xa4\\xbe\\xe0\\xa4\\xb2\\xe0\\xa5\\x80\\xe2\\x80\\xac\\n  </option>\\n  <option value=\"mr\"\\n                 >\\n  \\xe2\\x80\\xaa\\xe0\\xa4\\xae\\xe0\\xa4\\xb0\\xe0\\xa4\\xbe\\xe0\\xa4\\xa0\\xe0\\xa5\\x80\\xe2\\x80\\xac\\n  </option>\\n  <option value=\"hi\"\\n                 >\\n  \\xe2\\x80\\xaa\\xe0\\xa4\\xb9\\xe0\\xa4\\xbf\\xe0\\xa4\\xa8\\xe0\\xa5\\x8d\\xe0\\xa4\\xa6\\xe0\\xa5\\x80\\xe2\\x80\\xac\\n  </option>\\n  <option value=\"bn\"\\n                 >\\n  \\xe2\\x80\\xaa\\xe0\\xa6\\xac\\xe0\\xa6\\xbe\\xe0\\xa6\\x82\\xe0\\xa6\\xb2\\xe0\\xa6\\xbe\\xe2\\x80\\xac\\n  </option>\\n  <option value=\"gu\"\\n                 >\\n  \\xe2\\x80\\xaa\\xe0\\xaa\\x97\\xe0\\xab\\x81\\xe0\\xaa\\x9c\\xe0\\xaa\\xb0\\xe0\\xaa\\xbe\\xe0\\xaa\\xa4\\xe0\\xab\\x80\\xe2\\x80\\xac\\n  </option>\\n  <option value=\"ta\"\\n                 >\\n  \\xe2\\x80\\xaa\\xe0\\xae\\xa4\\xe0\\xae\\xae\\xe0\\xae\\xbf\\xe0\\xae\\xb4\\xe0\\xaf\\x8d\\xe2\\x80\\xac\\n  </option>\\n  <option value=\"te\"\\n                 >\\n  \\xe2\\x80\\xaa\\xe0\\xb0\\xa4\\xe0\\xb1\\x86\\xe0\\xb0\\xb2\\xe0\\xb1\\x81\\xe0\\xb0\\x97\\xe0\\xb1\\x81\\xe2\\x80\\xac\\n  </option>\\n  <option value=\"kn\"\\n                 >\\n  \\xe2\\x80\\xaa\\xe0\\xb2\\x95\\xe0\\xb2\\xa8\\xe0\\xb3\\x8d\\xe0\\xb2\\xa8\\xe0\\xb2\\xa1\\xe2\\x80\\xac\\n  </option>\\n  <option value=\"ml\"\\n                 >\\n  \\xe2\\x80\\xaa\\xe0\\xb4\\xae\\xe0\\xb4\\xb2\\xe0\\xb4\\xaf\\xe0\\xb4\\xbe\\xe0\\xb4\\xb3\\xe0\\xb4\\x82\\xe2\\x80\\xac\\n  </option>\\n  <option value=\"si\"\\n                 >\\n  \\xe2\\x80\\xaa\\xe0\\xb7\\x83\\xe0\\xb7\\x92\\xe0\\xb6\\x82\\xe0\\xb7\\x84\\xe0\\xb6\\xbd\\xe2\\x80\\xac\\n  </option>\\n  <option value=\"th\"\\n                 >\\n  \\xe2\\x80\\xaa\\xe0\\xb9\\x84\\xe0\\xb8\\x97\\xe0\\xb8\\xa2\\xe2\\x80\\xac\\n  </option>\\n  <option value=\"lo\"\\n                 >\\n  \\xe2\\x80\\xaa\\xe0\\xba\\xa5\\xe0\\xba\\xb2\\xe0\\xba\\xa7\\xe2\\x80\\xac\\n  </option>\\n  <option value=\"my\"\\n                 >\\n  \\xe2\\x80\\xaa\\xe1\\x80\\x99\\xe1\\x80\\xbc\\xe1\\x80\\x94\\xe1\\x80\\xba\\xe1\\x80\\x99\\xe1\\x80\\xac\\xe2\\x80\\xac\\n  </option>\\n  <option value=\"km\"\\n                 >\\n  \\xe2\\x80\\xaa\\xe1\\x9e\\x81\\xe1\\x9f\\x92\\xe1\\x9e\\x98\\xe1\\x9f\\x82\\xe1\\x9e\\x9a\\xe2\\x80\\xac\\n  </option>\\n  <option value=\"ko\"\\n                 >\\n  \\xe2\\x80\\xaa\\xed\\x95\\x9c\\xea\\xb5\\xad\\xec\\x96\\xb4\\xe2\\x80\\xac\\n  </option>\\n  <option value=\"zh-HK\"\\n                 >\\n  \\xe2\\x80\\xaa\\xe4\\xb8\\xad\\xe6\\x96\\x87\\xef\\xbc\\x88\\xe9\\xa6\\x99\\xe6\\xb8\\xaf\\xef\\xbc\\x89\\xe2\\x80\\xac\\n  </option>\\n  <option value=\"ja\"\\n                 >\\n  \\xe2\\x80\\xaa\\xe6\\x97\\xa5\\xe6\\x9c\\xac\\xe8\\xaa\\x9e\\xe2\\x80\\xac\\n  </option>\\n  <option value=\"zh-CN\"\\n                 >\\n  \\xe2\\x80\\xaa\\xe7\\xae\\x80\\xe4\\xbd\\x93\\xe4\\xb8\\xad\\xe6\\x96\\x87\\xe2\\x80\\xac\\n  </option>\\n  <option value=\"zh-TW\"\\n                 >\\n  \\xe2\\x80\\xaa\\xe7\\xb9\\x81\\xe9\\xab\\x94\\xe4\\xb8\\xad\\xe6\\x96\\x87\\xe2\\x80\\xac\\n  </option>\\n  </select>\\n  </span>\\n  </div>\\n  </div>\\n</div>\\n  </div>\\n  <script nonce=\"48jJk9vjq+I\">\\n  (function(){\\n  var splitByFirstChar = function(toBeSplit, splitChar) {\\n  var index = toBeSplit.indexOf(splitChar);\\n  if (index >= 0) {\\n  return [toBeSplit.substring(0, index),\\n  toBeSplit.substring(index + 1)];\\n  }\\n  return [toBeSplit];\\n  }\\n  var langChooser_parseParams = function(paramsSection) {\\n  if (paramsSection) {\\n  var query = {};\\n  var params = paramsSection.split(\\'&\\');\\n  for (var i = 0; i < params.length; i++) {\\n              var param = splitByFirstChar(params[i], \\'=\\');\\n              if (param.length == 2) {\\n                query[param[0]] = param[1];\\n              }\\n            }\\n            return query;\\n          }\\n          return {};\\n        }\\n        var appendHiddenParams = function(query) {\\n          var loginForm = document.getElementById(\\'gaia_loginform\\');\\n          if (loginForm) {\\n            var loginInputs = loginForm.getElementsByTagName(\\'input\\');\\n            for (var i = 0, input; input = loginInputs[i]; i++) {\\n              if (input.type == \\'hidden\\' && input.value && !query[input.name]) {\\n                query[input.name] = input.value;\\n              }\\n            }\\n          }\\n        }\\n        var post = function(path, params) {\\n          var form = document.createElement(\\'form\\');\\n          form.setAttribute(\\'method\\', \\'post\\');\\n          form.setAttribute(\\'action\\', path);\\n\\n          for (var key in params) {\\n            if (params.hasOwnProperty(key)) {\\n              var hiddenField = document.createElement(\\'input\\');\\n              hiddenField.setAttribute(\\'type\\', \\'hidden\\');\\n              hiddenField.setAttribute(\\'name\\', key);\\n              hiddenField.setAttribute(\\'value\\', params[key]);\\n\\n              form.appendChild(hiddenField);\\n            }\\n          }\\n\\n          document.body.appendChild(form);\\n          form.submit();\\n        }\\n        var langChooser_getParamStr = function(params) {\\n          var paramsStr = [];\\n          for (var a in params) {\\n            paramsStr.push(a + \"=\" + params[a]);\\n          }\\n          return paramsStr.join(\\'&\\');\\n        }\\n        var langChooser_currentUrl = window.location.href;\\n        var match = langChooser_currentUrl.match(\"^(.*?)(\\\\\\\\?(.*?))?(#(.*))?$\");\\n        var langChooser_currentPath = match[1];\\n        var langChooser_params = langChooser_parseParams(match[3]);\\n        var langChooser_fragment = match[5];\\n\\n        var langChooser = document.getElementById(\\'lang-chooser\\');\\n        var langChooserWrap = document.getElementById(\\'lang-chooser-wrap\\');\\n        var langVisControl = document.getElementById(\\'lang-vis-control\\');\\n        if (langVisControl && langChooser) {\\n          langVisControl.style.display = \\'inline\\';\\n          langChooser.onchange = function() {\\n            langChooser_params[\\'lp\\'] = 1;\\n            langChooser_params[\\'hl\\'] = encodeURIComponent(this.value);\\n            var hiddenEmailInput = document.getElementById(\\'Email-hidden\\');\\n            if (hiddenEmailInput) {\\n              // If we are in password separation on password page, post to\\n              // /AccountLoginInfo.\\n              appendHiddenParams(langChooser_params);\\n              langChooser_params[\\'Email\\'] = hiddenEmailInput.value;\\n              post(\\'/AccountLoginInfo\\', langChooser_params);\\n            } else {\\n              var paramsStr = langChooser_getParamStr(langChooser_params);\\n              var newHref = langChooser_currentPath + \"?\" + paramsStr;\\n              if (langChooser_fragment) {\\n                newHref = newHref + \"#\" + langChooser_fragment;\\n              }\\n              window.location.href = newHref;\\n            }\\n          };\\n        }\\n      })();\\n    </script>\\n<script type=\"text/javascript\" nonce=\"48jJk9vjq+I\">\\n  var gaia_attachEvent = function(element, event, callback) {\\n  if (element && element.addEventListener) {\\n  element.addEventListener(event, callback, false);\\n  } else if (element && element.attachEvent) {\\n  element.attachEvent(\\'on\\' + event, callback);\\n  }\\n  };\\n</script>\\n  <script type=\"text/javascript\" nonce=\"48jJk9vjq+I\">/* Anti-spam. Want to say hello? Contact (base64) Ym90Z3VhcmQtY29udGFjdEBnb29nbGUuY29t */Function(\\'var l,L=function(T,V,t,b,C){if(t=V[0],T.m=false,1==t)T.P=25,T.D(V);else if(2==t){b=V[t=V[1],3];try{C=T.D(V)}catch(B){d(T,B),C=T.I}(t&&t(C),b).push(C)}else if(3==t)T.D(V);else if(4==t)T.D(V);else if(5==t)(0,V[1])();else if(6==t)return C=V[2],W(T,196,V[6]),W(T,52,C),T.D(V)},w=function(T,V,t){if(V=typeof T,\"object\"==V)if(T){if(T instanceof Array)return\"array\";if(T instanceof Object)return V;if((t=Object.prototype.toString.call(T),\"[object Window]\")==t)return\"object\";if(\"[object Array]\"==t||\"number\"==typeof T.length&&\"undefined\"!=typeof T.splice&&\"undefined\"!=typeof T.propertyIsEnumerable&&!T.propertyIsEnumerable(\"splice\"))return\"array\";if(\"[object Function]\"==t||\"undefined\"!=typeof T.call&&\"undefined\"!=typeof T.propertyIsEnumerable&&!T.propertyIsEnumerable(\"call\"))return\"function\"}else return\"null\";else if(\"function\"==V&&\"undefined\"==typeof T.call)return\"object\";return V},E=function(T,V,t,b,C,B){for(b=(8==(C=T.v(V),V)?(V=function(T,V,t,b){if((V=C.length,t=V-4>>3,C).$!=t){t=(C.$=t,((b=[0,0,0,B],t)<<3)-4);try{C.U=u(D(C,t),D(C,t+4),b)}catch(F){throw F;}}C.push(C.U[V&7]^T)},B=T.v(253)):V=function(T){C.push(T)},b&&V(b&255),T=t.length,0);b<T;b++)V(t[b])},u=function(T,V,t,b){try{for(b=0;79669387488!=b;)T+=(V<<4^V>>>5)+V^b+t[b&3],b+=2489668359,V+=(T<<4^T>>>5)+T^b+t[b>>>11&3];return[T>>>24,T>>16&255,T>>8&255,T&255,V>>>24,V>>16&255,V>>8&255,V&255]}catch(C){throw C;}},g=function(T,V,t){if(0>=T.T||1<T.c||!T.m&&0<V||0!=document.hidden||T.s()-T.h<T.T-t)return false;return!(((V=(T.Y=true,T).v(142)-V,W)(T,142,T.B.length),T.j).push([3,V]),0)},Z=function(T,V){try{A(this,T,V)}catch(t){d(this,t)}},y=(Z.prototype.o=(Z.prototype.K=36,function(T,V){if(this.M)return T=T?this.M().shift():this.V().shift(),this.M().length||this.V().length||(this.V=this.M=void 0,this.c--),T;if(T=this.v(142),!(T in this.B))throw H(this,31),this.A;return(W(this,((void 0==this.W&&(this.W=D(this.B,T-4),this.S=void 0),this.S)!=T>>3&&(this.S=T>>3,V=[0,0,0,this.v(66)],this.O=u(this.W,this.S,V)),142),T+1),this).B[T]^this.O[T%8]}),Z.prototype.b=function(T,V,t,b,C,B){if(this.I)return this.I;try{B=[],C=[],b=!!T,k(this,[1,C,V]),k(this,[2,T,C,B]),x(this,false,b,true),t=B[0]}catch(X){d(this,X),t=this.I,T&&T(t)}return t},(Z.prototype.v=function(T,V){if(V=this.Z[T],void 0===V)throw H(this,30,0,T),this.A;return V()},Z).prototype.ZY=function(T,V,t){if(3==T.length){for(t=0;3>t;t++)V[t]+=T[t];for(T=[13,(t=0,8),13,12,16,5,3,10,15];9>t;t++)V[3](V,t%3,T[t])}},function(T,V,t,b,C){for(;T.j.length;){if(t=t&&V)T.T&&T.Y?(t=0!=document.hidden?false:true,T.Y=false):t=false;if(t){T.oq((C=T,function(){x(C,false,V,false)}));break}b=L(T,(b=(t=true,T).j.pop(),b))}return b}),Y=(Z.prototype.v8=function(T,V,t){return((V=(V^=V<<13,V^=V>>17,(V^V<<5)&t))||(V=1),T)^V},function(T,V){(T.X.push(T.Z.slice()),T).Z[142]=void 0,W(T,142,V)}),K=function(T,V,t,b,C,B,X){T.c++;try{for(B=(C=(t=(b=5001,T.B.length),void 0),0);(T.l||--b)&&(T.M||(B=T.v(142))<t);)try{T.M?C=T.o(true):(W(T,61,B),X=T.o(),C=T.v(X)),C&&C.call?C(T):H(T,21,0,X),T.m=true,g(T,0,2)}catch(f){f!=T.A&&(T.v(84)?H(T,22,f):W(T,84,f))}b||H(T,33)}catch(f){try{H(T,22,f)}catch(v){d(T,v)}}return(t=T.v(52),V)&&W(T,142,V),T.c--,t},q=(Z.prototype.f=\"toString\",function(T,V,t,b){for(t=[],b=V-1;0<=b;b--)t[V-1-b]=T>>8*b&255;return t}),k=(Z.prototype.G=function(T,V,t,b){(t=(T&=(V=T&4,3),t=this.o(),b=this.o(),this).v(t),V&&(t=n((\"\"+t).replace(/\\\\\\\\r\\\\\\\\n/g,\"\\\\\\\\n\"))),T&&E(this,b,q(t.length,2)),E)(this,b,t)},Z.prototype.s=(window.performance||{}).now?function(){return this.F+(window.performance.now()|0)}:function(){return+new Date},function(T,V){T.j.splice(0,0,V)}),x=(Z.prototype.D=(Z.prototype.l=false,function(T,V,t,b,C){if((V=T[0],4)==V){T=T[1];try{for(b=V=(t=atob(T),T=[],0);b<t.length;b++)C=t.charCodeAt(b),255<C&&(T[V++]=C&255,C>>=8),T[V++]=C;this.B=T}catch(B){H(this,17,B)}K(this)}else if(1==V)t=T[1],t.push(this.v(12).length,this.v(8).length,this.v(165).length,this.v(170)),W(this,52,T[2]),this.Z[160]&&z(this,this.v(160));else{if(2==V){if(C=a((4<(0<(4<(V=(C=(0<(T=q((t=T[2],this.v(12).length+2),2),C=this.v(43),C.length)&&E(this,12,q(C.length,2).concat(C),15),this.v(149))&511,C-=this.v(12).length+5,this).v(8),V).length&&(C-=V.length+3),C)&&E(this,12,q(C,2).concat(a(C)),10),V).length&&E(this,12,q(V.length,2).concat(V),153),2)).concat(this.v(12)),C[1]=C[0]^3,C[3]=C[1]^T[0],C[4]=C[1]^T[1],T=window.btoa){for(b=(V=\"\",0);b<C.length;b+=8192)V+=String.fromCharCode.apply(null,C.slice(b,b+8192));T=T(V).replace(/\\\\\\\\+/g,\"-\").replace(/\\\\\\\\//g,\"_\").replace(/=/g,\"\")}else T=void 0;if(T)T=\"!\"+T;else for(V=0,T=\"\";V<C.length;V++)b=C[V][this.f](16),1==b.length&&(b=\"0\"+b),T+=b;return((this.v((C=T,12)).length=t[0],this.v(8).length=t[1],this.v(165)).length=t[2],W)(this,170,t[3]),C}if(3==V)z(this,T[1]);else if(6==V)return z(this,T[1])}}),function(T,V,t,b,C){if(0!=T.j.length){if(C=0==T.c)T.h=T.s();return t=y(T,t,b),C&&(C=T.s()-T.h,C<(V?10:0)||0>=T.P--||T.N.push(254>=C?C:254)),t}}),J=function(T,V,t,b){E(T,(b=(t=T.o(),T.o()),b),q(T.v(t),V))},A=function(T,V,t,b,C){for(T.Y=(C=0,((T.c=0,T).M=void 0,(b=[],T).H=function(T,V,t){return(V=function(){return t()},t=function(){return T},V)[this.f]=function(B){T=B},V},T).P=25,T.m=!(T.N=[],T.i=function(T,V,t,b,C,F){return(b=function(){return b[t.C+(C[t.J]===V)-!F[t.J]]},C=(t=this,function(){return b()}),F=t.D,C[t.f]=function(T){b[t.K]=T},C)[t.f](T),T=C},T.T=(T.V=void 0,0),1),false);128>C;C++)b[C]=String.fromCharCode(C);(W(T,201,(W(T,(W(T,209,(T.j=(W(T,233,(W((W(T,10,(((((W(T,(W(T,(W(T,108,(W((W(((((W(T,((W(T,242,((W(T,222,(W(((W(T,117,(W((W((W(T,(((W(T,43,(W(T,((W(T,168,(((T.Z=[],W)(T,142,0),W(T,61,0),W)(T,44,function(T,V,t,b,C){V=T.o(),t=T.o(),b=T.v(T.o()),C=T.v(T.o()),t=T.v(t),W(T,V,Q(T,t,b,C))}),function(T,V,t,b){W(T,(b=(V=T.o(),t=T.o(),T.o()),b),(T.v(V)in T.v(t))+0)})),T).X=[],253),0),[])),W)(T,84,226),W(T,195,function(T,V,t,b){(b=(t=(V=T.o(),T.o()),T.o()),T).v(V)[T.v(t)]=T.v(b)}),T).F=((window.performance||{}).timing||{}).navigationStart||0,T.pB=function(T,V){((V.push(T[0]<<24|T[1]<<16|T[2]<<8|T[3]),V).push(T[4]<<24|T[5]<<16|T[6]<<8|T[7]),V).push(T[8]<<24|T[9]<<16|T[10]<<8|T[11])},6),I),T),207,function(T,V,t,b){(t=(V=T.o(),T).o(),b=T.o(),W)(T,b,T.v(V)>>t)}),C=t.w||function(){},T),241,T),function(T){J(T,4)})),W)(T,214,function(T){T.G(4)}),T),230,function(){}),W(T,141,function(T){J(T,1)}),function(T){c(T,2)})),W)(T,8,a(4)),W(T,71,function(T,V,t,b,C,F,G){g(T,1,5)||(V=h(T),b=V.R,C=V.g,t=V.a,G=t.length,0==G?F=new b[C]:1==G?F=new b[C](t[0]):2==G?F=new b[C](t[0],t[1]):3==G?F=new b[C](t[0],t[1],t[2]):4==G?F=new b[C](t[0],t[1],t[2],t[3]):H(T,22),W(T,V.L,F))}),W(T,87,function(T,V,t){W((V=(t=(V=T.o(),T.o()),T.Z[V]&&T.v(V)),T),t,V)}),function(T,V,t,b,C){for(t=(V=T.o(),r)(T),b=[],C=0;C<t;C++)b.push(T.o());W(T,V,b)})),W)(T,193,function(T,V,t,b,C,F){if(!g(T,1,255)){if(T=(b=(t=(V=(C=(V=T.o(),t=T.o(),b=T.o(),T).o(),T.v(V)),T.v(t)),T.v(b)),T.v(C)),\"object\"==w(V)){for(F in C=[],V)C.push(F);V=C}for(F=V.length,C=0;C<F;C+=b)t(V.slice(C,C+b),T)}}),165),[]),W)(T,42,function(T,V,t){g(T,1,5)||(V=T.o(),t=T.o(),W(T,t,function(T){return eval(T)}(T.v(V))))}),W)(T,52,{}),W)(T,170,2048),T),167,function(T,V,t,b){W(T,(V=(t=(V=T.o(),t=T.o(),b=T.o(),T).v(t),T).v(V),b),V[t])}),T),155,function(T,V,t){W((t=(V=T.o(),T).o(),T),t,T.v(t)+T.v(V))}),function(T,V,t,b){if(V=T.X.pop()){for(t=T.o();0<t;t--)b=T.o(),V[b]=T.Z[b];((V[43]=T.Z[43],V)[170]=T.Z[170],T).Z=V}else W(T,142,T.B.length)})),255),function(T,V,t,b,C,F,G,R,O,e,M,N,U){for(e=O=(R=(G=(C=(V=T.o(),b=t=0,function(V,C){for(;b<V;)t|=T.o()<<b,b+=8;return t>>=(b-=V,C=t&(1<<V)-1,V),C}),F=C(3)+1,C)(5),[]),0);e<G;e++)M=C(1),R.push(M),O+=M?0:1;for(O=(O-1).toString(2).length,e=0,N=[];e<G;e++)R[e]||(N[e]=C(O));for(e=0;e<G;e++)R[e]&&(N[e]=T.o());for(U=[],e=F;e--;)U.push(T.v(T.o()));W(T,V,function(T,V,t,b,C){for(V=[],T.c++,b=0,t=[];b<G;b++){if(C=N[b],!R[b]){for(;C>=V.length;)V.push(T.o());C=V[C]}t.push(C)}(T.M=T.i(U.slice(),T.o),T).V=T.i(t,T.o)})}),121),function(T,V,t){(t=(V=T.o(),T).o(),0!=T.v(V))&&W(T,142,T.v(t))}),W(T,46,function(T){c(T,1)}),W)(T,94,function(T){c(T,4)}),W(T,149,0),W(T,90,function(T,V,t){W((V=(t=(V=T.o(),T.o()),T).v(V),T),t,w(V))}),W)(T,66,0),W)(T,130,function(T,V,t,b){V=(t=(V=T.o(),T.o()),b=T.o(),T).v(V)==T.v(t),W(T,b,+V)}),W)(T,131,function(T,V){(T=(V=T.o(),T).v(V),T)[0].removeEventListener(T[1],T[2],false)}),function(T,V,t,b,C){C=(b=(t=(V=T.o(),T).o(),T).o(),V=T.v(V),T.v(T.o())),t=T.v(t),b=T.v(b),0!==V&&(b=Q(T,b,C,1,V,t),V.addEventListener(t,b,S),W(T,37,[V,t,b]))})),T),12,[165,0,0]),function(T,V,t,b){W((b=(t=(V=T.o(),T).o(),T).o(),T),b,T.v(V)||T.v(t))})),[]),W(T,37,0),function(T,V,t,C,m,F,G){if((C=(t=r((V=T.o(),T)),\"\"),T.Z)[13])for(m=T.v(13),F=0,G=m.length;t--;)F=(F+r(T))%G,C+=b[m[F]];else for(;t--;)C+=b[T.o()];W(T,V,C)})),W(T,183,function(T,V){Y(T,(V=T.v(T.o()),V))}),246),function(T,V){g(T,1,5)||(V=h(T),W(T,V.L,V.g.apply(V.R,V.a)))}),function(T,V,t){W(T,(V=T.o(),t=T.o(),t),\"\"+T.v(V))})),V&&\"!\"==V.charAt(0))?(T.I=V,C()):(t=!!t.w,T.B=[],k(T,[4,V]),k(T,[5,C]),x(T,false,t,true))},c=function(T,V,t,b){for(t=T.o(),b=0;0<V;V--)b=b<<8|T.o();W(T,t,b)},a=(Z.prototype.yS=function(T,V,t,b,C,B){for(B=b=(t=[],0);B<T.length;B++)for(b+=V,C=C<<V|T[B];7<b;)b-=8,t.push(C>>b&255);return t},function(T,V){for(V=[];T--;)V.push(255*Math.random()|0);return V}),r=function(T,V){return(V=T.o(),V&128)&&(V=V&127|T.o()<<7),V},z=(Z.prototype.t3=function(T,V,t,b){try{b=T[(V+2)%3],T[V]=T[V]-T[(V+1)%3]-b^(1==V?b<<t:b>>>t)}catch(C){throw C;}},function(T,V,t){return(t=T.v(142),T).B&&t<T.B.length?(W(T,142,T.B.length),Y(T,V)):W(T,142,V),K(T,t)}),I=this,S=false,W=((Z.prototype.B8=function(T,V,t,b,C){for(C=b=0;C<T.length;C++)b+=T.charCodeAt(C),b+=b<<10,b^=b>>6;return(T=(b+=b<<3,b^=b>>11,b)+(b<<15)>>>0,b=new Number(T&(1<<V)-1),b)[0]=(T>>>V)%t,b},Z).prototype.A={},function(T,V,t){if(142==V||61==V)if(T.Z[V])T.Z[V][T.f](t);else T.Z[V]=T.H(t);else if(12!=V&&8!=V&&165!=V&&43!=V||!T.Z[V])T.Z[V]=T.i(t,T.v);66==V&&(T.W=void 0,W(T,142,T.v(142)+4))}),d=function(T,V){T.I=(\"E:\"+V.message+\":\"+V.stack).slice(0,2048)},H=(Z.prototype.C=35,function(T,V,t,b,C){W((3<(t=(b=(void 0!=(V=(C=T.v(61),[V,C>>8&255,C&255]),b)&&V.push(b),0==T.v(43).length&&(T.Z[43]=void 0,W(T,43,V)),\"\"),t&&(t.message&&(b+=t.message),t.stack&&(b+=\":\"+t.stack)),T.v(170)),t)&&(b=b.slice(0,t-3),t-=b.length+3,b=n(b.replace(/\\\\\\\\r\\\\\\\\n/g,\"\\\\\\\\n\")),E(T,8,q(b.length,2).concat(b),12)),T),170,t)}),D=function(T,V){return T[V]<<24|T[V+1]<<16|T[V+2]<<8|T[V+3]},h=function(T,V,t,b,C,B){for(b=(t=(V={},T).o(),V.L=T.o(),V.a=[],T.o()-1),C=T.o(),B=0;B<b;B++)V.a.push(T.o());for((V.g=T.v(t),V).R=T.v(C);b--;)V.a[b]=T.v(V.a[b]);return V},Q=function(T,V,t,b,C,B){return function(){var X=[6,V,t,void 0,C,B,arguments],f=b&1;if(b&2)var v=x(T,true,(k(T,X),false),false);else f&&T.j.length?k(T,X):f?(k(T,X),x(T,true,false,false)):v=L(T,X);return v}},n=((l=I.botguard||(I.botguard={}),Z.prototype).Me=function(T,V,t,b){for(;t--;)142!=t&&61!=t&&V.Z[t]&&(V.Z[t]=V[b](V[T](t),this));V[T]=this},(Z.prototype.oq=I.requestIdleCallback?function(T){requestIdleCallback(T,{timeout:4})}:I.setImmediate?function(T){setImmediate(T)}:function(T){setTimeout(T,0)},Z).prototype.J=\"caller\",function(T,V,t,b,C){for(b=t=(V=[],0);b<T.length;b++)C=T.charCodeAt(b),128>C?V[t++]=C:(2048>C?V[t++]=C>>6|192:(55296==(C&64512)&&b+1<T.length&&56320==(T.charCodeAt(b+1)&64512)?(C=65536+((C&1023)<<10)+(T.charCodeAt(++b)&1023),V[t++]=C>>18|240,V[t++]=C>>12&63|128):V[t++]=C>>12|224,V[t++]=C>>6&63|128),V[t++]=C&63|128);return V});l.YKR=function(T,V,t){t=new Z(T,{w:V}),this.invoke=function(T,V,B){return(B=t.b(V&&T,B),T)&&!V&&T(B),B}},l.bg=function(T,V,t){return T&&T.substring&&(t=l[T.substring(0,3)])?new t(T.substring(3),V):new l.YKR(T,V)};try{l.u||(I.addEventListener(\"unload\",function(){},S),l.u=1)}catch(T){}try{I.addEventListener(\"test\",null,Object.defineProperty({},\"passive\",{get:function(){S={passive:true}}}))}catch(T){};\\')();</script>\\n  <script type=\"text/javascript\" nonce=\"48jJk9vjq+I\">\\n  document.bg = new botguard.bg(\\'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\\');\\n  </script>\\n<script nonce=\"48jJk9vjq+I\">\\n  gaia = window.gaia || {};\\n  gaia.ps = gaia.ps || {};\\n  gaia.ps.hasPrefilledIdentifier = false;\\n  function gaia_parseFragment() {\\n  var hash = location.hash;\\n  var params = {};\\n  if (!hash) {\\n  return params;\\n  }\\n  var paramStrs = decodeURIComponent(hash.substring(1)).split(\\'&\\');\\n  for (var i = 0; i < paramStrs.length; i++) {\\n      var param = paramStrs[i].split(\\'=\\');\\n      params[param[0]] = param[1];\\n    }\\n    return params;\\n  }\\n\\n  function gaia_prefillEmail() {\\n    var email = null;\\n    var form = null;\\n    if (document.getElementById) {\\n      email = document.getElementById(\\'Email\\');\\n      form = document.getElementById(\\'gaia_loginform\\');\\n    }\\n    if (form && email && (email.value == null || email.value == \\'\\')\\n        && (email.type != \\'hidden\\')) {\\n      hashParams = gaia_parseFragment();\\n      if (hashParams[\\'Email\\'] && hashParams[\\'Email\\'] != \\'\\') {\\n        email.value = hashParams[\\'Email\\'];\\n      }\\n    }\\n  }\\n\\n  \\n  try {\\n    gaia_prefillEmail();\\n  } catch (e) {\\n  }\\n  \\n</script>\\n<script nonce=\"48jJk9vjq+I\">\\n  var gaia_scrollToElement = function(element) {\\n  var calculateOffsetHeight = function(element) {\\n  var curtop = 0;\\n  if (element.offsetParent) {\\n  while (element) {\\n  curtop += element.offsetTop;\\n  element = element.offsetParent;\\n  }\\n  }\\n  return curtop;\\n  }\\n  var siginOffsetHeight = calculateOffsetHeight(element);\\n  var scrollHeight = siginOffsetHeight - window.innerHeight +\\n  element.clientHeight + 0.02 * window.innerHeight;\\n  window.scroll(0, scrollHeight);\\n  }\\n</script>\\n  <script nonce=\"48jJk9vjq+I\">\\n  if (gaia.ps.hasPrefilledIdentifier) {\\n  var form = document.getElementById(\\'gaia_loginform\\');\\n  if (form) {\\n  form.submit();\\n  }\\n  }\\n  </script>\\n<script nonce=\"48jJk9vjq+I\">\\n  (function(){\\n  gaia_onLoginSubmit = function() {\\n  try {\\n  gaia.loginAutoRedirect.stop();\\n  } catch (err) {\\n  // do not prevent form from being submitted\\n  }\\n  try {\\n  document.bg.invoke(function(response) {\\n  document.getElementById(\\'bgresponse\\').value = response;\\n  });\\n  } catch (err) {\\n  document.getElementById(\\'bgresponse\\').value = \\'\\';\\n  }\\n  return true;\\n  }\\n  document.getElementById(\\'gaia_loginform\\').onsubmit = gaia_onLoginSubmit;\\n  var signinButton;\\n  signinButton = document.getElementById(\\'next\\');\\n  gaia_attachEvent(window, \\'load\\', function(){\\n  gaia_scrollToElement(signinButton);\\n  });\\n  })();\\n</script>\\n  <script nonce=\"48jJk9vjq+I\">var e=this,g=function(a,c){a=a.split(\".\");var b=e;a[0]in b||!b.execScript||b.execScript(\"var \"+a[0]);for(var d;a.length&&(d=a.shift());)a.length||void 0===c?b[d]?b=b[d]:b=b[d]={}:b[d]=c};var h=function(){try{return new XMLHttpRequest}catch(b){for(var a=[\"MSXML2.XMLHTTP.6.0\",\"MSXML2.XMLHTTP.3.0\",\"MSXML2.XMLHTTP\",\"Microsoft.XMLHTTP\"],c=0;c<a.length;c++)try{return new ActiveXObject(a[c])}catch(d){}}return null};g(\"gaia.ajax.newXmlHttpRequest\",h);var k=function(){this.a=h();this.parameters={}};g(\"gaia.ajax.XmlHttpFormRequest\",k);\\nk.prototype.send=function(a,c){var b=[],d;for(d in this.parameters)b.push(d+\"=\"+encodeURIComponent(this.parameters[d]));b=b.join(\"&\");var f=this.a;f.open(\"POST\",a,!0);f.setRequestHeader(\"Content-type\",\"application/x-www-form-urlencoded\");f.onreadystatechange=function(){4==f.readyState&&c({status:f.status,text:f.responseText})};f.send(b)};k.prototype.send=k.prototype.send;\\nk.prototype.h=function(a,c,b){var d=this.a;d.open(\"POST\",a,!0);d.setRequestHeader(\"Content-type\",\"application/json\");d.onreadystatechange=function(){4==d.readyState&&b({status:d.status,text:d.responseText})};d.send(c)};k.prototype.sendJson=k.prototype.h;k.prototype.get=function(a,c){var b=this.a;b.open(\"GET\",a,!0);b.onreadystatechange=function(){4==b.readyState&&c({status:b.status,text:b.responseText})};b.send()};k.prototype.get=k.prototype.get;var l=/\\\\s*;\\\\s*/,m=function(){if(!document.cookie)return\"\";for(var a=document.cookie.split(l),c=0;c<a.length;c++){var b=a[c];b=b.replace(/^\\\\s+/,\"\");b=b.replace(/\\\\s+$/,\"\");if(0==b.indexOf(\"APISID=\"))return b.substr(7)}return\"\"};var n=null,p=function(a,c){this.g=a;this.f=c;this.c=m();this.b=!1},q=function(){var a=n,c=m();c==a.c||a.b||(a.c=c,(new k).get(a.f,function(b){var a=n;b&&b.status&&200==b.status&&\"OK\"==b.text&&(a.a&&clearInterval(a.a),a.b||(window.location=a.g))}))};p.prototype.start=function(a){if(this.a)return!1;this.a=setInterval(function(){q()},a);return!0};g(\"gaia.loginAutoRedirect.start\",function(a,c,b){if(n||!b||!c||0>=a)return!1;n=new p(c,b);return n.start(a)});\\ng(\"gaia.loginAutoRedirect.stop\",function(){var a=n;a.b=!0;a.a&&(clearInterval(a.a),a.a=null)});\\n</script>\\n  <script type=\"text/javascript\" nonce=\"48jJk9vjq+I\">\\n  gaia.loginAutoRedirect.start(5000,\\n  \\'https:\\\\x2F\\\\x2Faccounts.google.com\\\\x2FServiceLogin?continue=https%3A%2F%2Fconsole.firebase.google.com%2Fproject%2Ffirechat-aeebc%2Fdatabase%2Fdata%2FUsers%2FLR_2gJ92Y8wsRM-jiIC\\\\x26followup=https%3A%2F%2Fconsole.firebase.google.com%2Fproject%2Ffirechat-aeebc%2Fdatabase%2Fdata%2FUsers%2FLR_2gJ92Y8wsRM-jiIC\\\\x26osid=1\\\\x26passive=1209600\\\\x26noautologin=true\\',\\n  \\'https:\\\\x2F\\\\x2Faccounts.google.com\\\\x2FPassiveLoginProber?continue=https%3A%2F%2Fconsole.firebase.google.com%2Fproject%2Ffirechat-aeebc%2Fdatabase%2Fdata%2FUsers%2FLR_2gJ92Y8wsRM-jiIC\\\\x26followup=https%3A%2F%2Fconsole.firebase.google.com%2Fproject%2Ffirechat-aeebc%2Fdatabase%2Fdata%2FUsers%2FLR_2gJ92Y8wsRM-jiIC\\\\x26osid=1\\\\x26passive=1209600\\');\\n  </script>\\n  </body>\\n</html>\\n'"
      ]
     },
     "execution_count": 31,
     "metadata": {},
     "output_type": "execute_result"
    }
   ],
   "source": [
    "contents"
   ]
  },
  {
   "cell_type": "code",
   "execution_count": 25,
   "metadata": {},
   "outputs": [],
   "source": [
    "import requests\n",
    "r = requests.get(\"https://firechat-aeebc.firebaseio.com/firechat-aeebc/Users/LR_2gJ92Y8wsRM-jiIC\")"
   ]
  },
  {
   "cell_type": "code",
   "execution_count": 29,
   "metadata": {},
   "outputs": [
    {
     "name": "stdout",
     "output_type": "stream",
     "text": [
      "200\n"
     ]
    }
   ],
   "source": [
    "print(r.status_code)\n",
    "# print(r.headers)\n",
    "# print(r.content)"
   ]
  },
  {
   "cell_type": "code",
   "execution_count": null,
   "metadata": {},
   "outputs": [],
   "source": []
  }
 ],
 "metadata": {
  "kernelspec": {
   "display_name": "Python 3",
   "language": "python",
   "name": "python3"
  },
  "language_info": {
   "codemirror_mode": {
    "name": "ipython",
    "version": 3
   },
   "file_extension": ".py",
   "mimetype": "text/x-python",
   "name": "python",
   "nbconvert_exporter": "python",
   "pygments_lexer": "ipython3",
   "version": "3.6.5"
  }
 },
 "nbformat": 4,
 "nbformat_minor": 2
}
